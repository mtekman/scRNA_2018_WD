{
 "cells": [
  {
   "cell_type": "markdown",
   "metadata": {
    "ExecuteTime": {
     "end_time": "2018-05-11T10:59:34.089651Z",
     "start_time": "2018-05-11T11:07:12.599Z"
    }
   },
   "source": [
    "# WD data -- Source matrices\n",
    "\n",
    "Here we aggregate that cells from the 8 different batches and check them for cross-lane contamination, as well as describe the overall quality profile.\n",
    "\n",
    "## Constructing Analysis Matrix"
   ]
  },
  {
   "cell_type": "code",
   "execution_count": 2,
   "metadata": {
    "ExecuteTime": {
     "end_time": "2018-06-14T22:24:33.592509Z",
     "start_time": "2018-06-14T22:23:04.415Z"
    }
   },
   "outputs": [
    {
     "name": "stderr",
     "output_type": "stream",
     "text": [
      "12345678\n",
      "Plate1 Batch1 - c(17460, 192)\n",
      "Plate1 Batch2 - c(17657, 192)\n",
      "Plate1 Batch3 - c(17418, 192)\n",
      "Plate1 Batch4 - c(18182, 192)\n",
      "Plate2 Batch5 - c(19232, 192)\n",
      "Plate2 Batch6 - c(20596, 192)\n",
      "Plate2 Batch7 - c(20752, 192)\n",
      "Plate2 Batch8 - c(17905, 192)\n"
     ]
    }
   ],
   "source": [
    "# Load\n",
    "csv_arr <- Sys.glob(\"source/WD_DP*.coutt.csv\")\n",
    "plate_n <- as.integer(sub(\".*_P([0-9]+)_([0-9]+).*\", \"\\\\1\", csv_arr))\n",
    "batch_n <- as.integer(sub(\".*_P([0-9]+)_([0-9]+).*\", \"\\\\2\", csv_arr))\n",
    "\n",
    "message(batch_n)\n",
    "\n",
    "matrices <- list()\n",
    "\n",
    "res <- lapply(batch_n, FUN=function(i){\n",
    "    batch <- i   \n",
    "    plate <- plate_n[[i]]\n",
    "    \n",
    "    mat <<- read.table(csv_arr[[i]], header=T, row.names=1)\n",
    "    # prepend headers with plate and batch\n",
    "    # X1, X2 → P1_B1_X1\n",
    "    tmp_names <- colnames(mat)\n",
    "    tmp_names <- sub(\"(.*)\", sprintf(\"P%d_B%d_\\\\1\", plate, batch), tmp_names)\n",
    "    colnames(mat) <- tmp_names\n",
    "    matrices[[i]] <<- mat\n",
    "    \n",
    "    message(\"Plate\", plate_n[[i]],\" Batch\", i, \" - \", list(dim(matrices[[i]])))\n",
    "})"
   ]
  },
  {
   "cell_type": "markdown",
   "metadata": {
    "ExecuteTime": {
     "end_time": "2018-06-13T15:56:15.472537Z",
     "start_time": "2018-06-13T15:55:01.370Z"
    }
   },
   "source": [
    "Number of features are not equal - need to do cross join and then filter. "
   ]
  },
  {
   "cell_type": "markdown",
   "metadata": {},
   "source": [
    "For now it will be of interest to see how expressive each cell is, even with the contributions from genes that will not make it into the final analysis.\n",
    "\n",
    "## Contamination check\n",
    "\n",
    "### Pre-Merge"
   ]
  },
  {
   "cell_type": "code",
   "execution_count": 3,
   "metadata": {
    "ExecuteTime": {
     "end_time": "2018-06-14T22:24:34.021771Z",
     "start_time": "2018-06-14T22:23:05.985Z"
    }
   },
   "outputs": [
    {
     "data": {
      "text/html": [
       "<table>\n",
       "<thead><tr><th></th><th scope=col>libsizes</th><th scope=col>ln</th><th scope=col>log10</th></tr></thead>\n",
       "<tbody>\n",
       "\t<tr><th scope=row>P1_B1_X1</th><td>2280.8798</td><td>7.732317 </td><td>3.358102 </td></tr>\n",
       "\t<tr><th scope=row>P1_B1_X2</th><td>1743.2260</td><td>7.463493 </td><td>3.241354 </td></tr>\n",
       "\t<tr><th scope=row>P1_B1_X3</th><td> 759.3018</td><td>6.632399 </td><td>2.880414 </td></tr>\n",
       "\t<tr><th scope=row>P2_B8_X190</th><td> 211.0333</td><td>5.352016 </td><td>2.324351 </td></tr>\n",
       "\t<tr><th scope=row>P2_B8_X191</th><td>2494.6306</td><td>7.821896 </td><td>3.397006 </td></tr>\n",
       "\t<tr><th scope=row>P2_B8_X192</th><td> 700.2627</td><td>6.551455 </td><td>2.845261 </td></tr>\n",
       "</tbody>\n",
       "</table>\n"
      ],
      "text/latex": [
       "\\begin{tabular}{r|lll}\n",
       "  & libsizes & ln & log10\\\\\n",
       "\\hline\n",
       "\tP1\\_B1\\_X1 & 2280.8798 & 7.732317  & 3.358102 \\\\\n",
       "\tP1\\_B1\\_X2 & 1743.2260 & 7.463493  & 3.241354 \\\\\n",
       "\tP1\\_B1\\_X3 &  759.3018 & 6.632399  & 2.880414 \\\\\n",
       "\tP2\\_B8\\_X190 &  211.0333 & 5.352016  & 2.324351 \\\\\n",
       "\tP2\\_B8\\_X191 & 2494.6306 & 7.821896  & 3.397006 \\\\\n",
       "\tP2\\_B8\\_X192 &  700.2627 & 6.551455  & 2.845261 \\\\\n",
       "\\end{tabular}\n"
      ],
      "text/markdown": [
       "\n",
       "| <!--/--> | libsizes | ln | log10 | \n",
       "|---|---|---|---|---|---|\n",
       "| P1_B1_X1 | 2280.8798 | 7.732317  | 3.358102  | \n",
       "| P1_B1_X2 | 1743.2260 | 7.463493  | 3.241354  | \n",
       "| P1_B1_X3 |  759.3018 | 6.632399  | 2.880414  | \n",
       "| P2_B8_X190 |  211.0333 | 5.352016  | 2.324351  | \n",
       "| P2_B8_X191 | 2494.6306 | 7.821896  | 3.397006  | \n",
       "| P2_B8_X192 |  700.2627 | 6.551455  | 2.845261  | \n",
       "\n",
       "\n"
      ],
      "text/plain": [
       "           libsizes  ln       log10   \n",
       "P1_B1_X1   2280.8798 7.732317 3.358102\n",
       "P1_B1_X2   1743.2260 7.463493 3.241354\n",
       "P1_B1_X3    759.3018 6.632399 2.880414\n",
       "P2_B8_X190  211.0333 5.352016 2.324351\n",
       "P2_B8_X191 2494.6306 7.821896 3.397006\n",
       "P2_B8_X192  700.2627 6.551455 2.845261"
      ]
     },
     "metadata": {},
     "output_type": "display_data"
    }
   ],
   "source": [
    "libsizes <- c()\n",
    "\n",
    "res <- lapply(batch_n, FUN=function(i)\n",
    "{\n",
    "    pbkey <- paste(plate_n[[i]], batch_n[[i]], sep=\"_\")\n",
    "    matt <- matrices[[i]]\n",
    "    libsizes <<- c(libsizes, colSums(matt))\n",
    "})\n",
    "\n",
    "libsizes <- cbind(libsizes, log(libsizes), log10(libsizes))\n",
    "colnames(libsizes) <- c(\"libsizes\", \"ln\", \"log10\")\n",
    "\n",
    "rbind(head(libsizes,3),tail(libsizes,3))"
   ]
  },
  {
   "cell_type": "code",
   "execution_count": 4,
   "metadata": {
    "ExecuteTime": {
     "end_time": "2018-06-14T22:24:34.224059Z",
     "start_time": "2018-06-14T22:23:07.136Z"
    }
   },
   "outputs": [
    {
     "name": "stderr",
     "output_type": "stream",
     "text": [
      "Blue [line] = plates\n",
      "Red  [dots] = batches\n",
      "No. cells with lib sizes > 20000 : 16\n"
     ]
    },
    {
     "data": {
      "image/png": "[encoded data removed]",
      "text/plain": [
       "Plot with title “Contamination Plot\n",
       " (pre-merge)”"
      ]
     },
     "metadata": {},
     "output_type": "display_data"
    },
    {
     "data": {
      "image/png": "[encoded data removed]",
      "text/plain": [
       "Plot with title “Histogram of log10(counts)”"
      ]
     },
     "metadata": {},
     "output_type": "display_data"
    }
   ],
   "source": [
    "options(repr.plot.height = 5)\n",
    "\n",
    "#plot(libsizes[,c(\"log10\")])  # -- log/ln not really informative\n",
    "     \n",
    "contaminationPlot <- function(counts, title = \"\", filtered=F){\n",
    "    plot(counts, pch = 16, cex = .4, ylab = \"Library Size\", xlab=\"Cell No.\", \n",
    "         main = paste(\"Contamination Plot\\n\", title)\n",
    "    )\n",
    "    if (!(filtered)){\n",
    "        abline(v=seq(96, 8 * 192, 192), col='red', lty=3)\n",
    "        abline(v=seq( 0, 8 * 192, 192), col='blue')\n",
    "    }\n",
    "    else {\n",
    "        abline(v=seq( 0, 8 * 96, 96), col='blue')\n",
    "    }\n",
    "    \n",
    "    message(\"Blue [line] = plates\")\n",
    "    message(\"Red  [dots] = batches\")\n",
    "    message(\"No. cells with lib sizes > 20000 : \", sum(counts > 20000))\n",
    "\n",
    "    hist(log10(counts), breaks = 100, xlim = c(0,5))\n",
    "}\n",
    "\n",
    "p_1 <- contaminationPlot(libsizes[,c(\"libsizes\")], title = \"(pre-merge)\")"
   ]
  },
  {
   "cell_type": "markdown",
   "metadata": {},
   "source": [
    "We see very little cross contamination between batches on the same plate. We also see only 16 cells with more than 20,000 counts with most of our cells within the range of 100 - 10,000, which is expected."
   ]
  },
  {
   "cell_type": "markdown",
   "metadata": {
    "ExecuteTime": {
     "end_time": "2018-06-13T18:00:17.294681Z",
     "start_time": "2018-06-13T17:59:03.021Z"
    }
   },
   "source": [
    "### Post-merge\n",
    "\n",
    "Let us now repeat these metrics but with each of the 8 batches sharing the same number of features. This will show whether we lose any highly expressive genes during the merge process (this is can be a good and bad thing, depending on how relavent that gene is to our analysis)."
   ]
  },
  {
   "cell_type": "code",
   "execution_count": 5,
   "metadata": {
    "ExecuteTime": {
     "end_time": "2018-06-14T22:24:34.267121Z",
     "start_time": "2018-06-14T22:23:08.676Z"
    }
   },
   "outputs": [],
   "source": [
    "#met <- Reduce(function(x,y) merge(x,y, 1, all = T, by = 'row.names'),matrices);\n",
    "\n",
    "# Just keep it simple\n",
    "commonInTwo <- function(m1, m2, names=F){\n",
    "    if (names){\n",
    "        r1 <- m1\n",
    "        r2 <- m2\n",
    "    }\n",
    "    else {\n",
    "        r1 <- rownames(m1)\n",
    "        r2 <- rownames(m2)        \n",
    "    }\n",
    "    common_names <- r1[r1 %in% r2]\n",
    "    return(common_names)\n",
    "}\n",
    "m1_m2 <- commonInTwo(matrices[[1]], matrices[[2]])\n",
    "m3_m4 <- commonInTwo(matrices[[3]], matrices[[4]])\n",
    "m5_m6 <- commonInTwo(matrices[[5]], matrices[[6]])\n",
    "m7_m8 <- commonInTwo(matrices[[7]], matrices[[8]])\n",
    "\n",
    "m12_m34 <- commonInTwo(m1_m2, m3_m4, names=T)\n",
    "m56_m78 <- commonInTwo(m5_m6, m7_m8, names=T)\n",
    "\n",
    "m1234_m5678 <- commonInTwo(m12_m34, m56_m78, names=T)"
   ]
  },
  {
   "cell_type": "code",
   "execution_count": 8,
   "metadata": {
    "ExecuteTime": {
     "end_time": "2018-06-14T08:33:45.284709Z",
     "start_time": "2018-06-14T08:32:30.203Z"
    }
   },
   "outputs": [],
   "source": [
    "# - Frivoulous, leave for now.\n",
    "#library(venneuler)\n",
    "#venn <- venneuler(c(\n",
    "#    \"B1\"=length(names(matrices[[1]])),\n",
    "#    \"B2\"=length(names(matrices[[2]])),\n",
    "#    \"B3\"=length(names(matrices[[3]])),\n",
    "#    \"B4\"=length(names(matrices[[4]])),\n",
    "#    \"B5\"=length(names(matrices[[5]])),\n",
    "#    \"B6\"=length(names(matrices[[6]])),\n",
    "#    \"B7\"=length(names(matrices[[7]])),\n",
    "#    \"B8\"=length(names(matrices[[8]])),\n",
    "#    \n",
    "#    \"B1&B2\"=length(m1_m2),\n",
    "#    \"B3&B4\"=length(m3_m4),\n",
    "#    \"B5&B6\"=length(m5_m6),\n",
    "#    \"B7&B8\"=length(m7_m8),\n",
    "#    \n",
    "#    \"B1&B2&B3&B4\"=length(m12_m34),\n",
    "#    \"B5&B6&B7&B8\"=length(m56_m78),\n",
    "#    \"B1&B2&B3&B4&B5&B6&B7&B8\"=length(m1234_m5678)\n",
    "#    ))\n",
    "#\n",
    "#plot(venn)\n",
    "                    "
   ]
  },
  {
   "cell_type": "code",
   "execution_count": 6,
   "metadata": {
    "ExecuteTime": {
     "end_time": "2018-06-14T22:24:34.313530Z",
     "start_time": "2018-06-14T22:23:11.170Z"
    }
   },
   "outputs": [
    {
     "data": {
      "text/html": [
       "<table>\n",
       "<thead><tr><th></th><th scope=col>Genes</th><th scope=col>Cells</th></tr></thead>\n",
       "<tbody>\n",
       "\t<tr><th scope=row>1</th><td>17460</td><td>192  </td></tr>\n",
       "\t<tr><th scope=row>2</th><td>17657</td><td>192  </td></tr>\n",
       "\t<tr><th scope=row>3</th><td>17418</td><td>192  </td></tr>\n",
       "\t<tr><th scope=row>4</th><td>18182</td><td>192  </td></tr>\n",
       "\t<tr><th scope=row>5</th><td>19232</td><td>192  </td></tr>\n",
       "\t<tr><th scope=row>6</th><td>20596</td><td>192  </td></tr>\n",
       "\t<tr><th scope=row>7</th><td>20752</td><td>192  </td></tr>\n",
       "\t<tr><th scope=row>8</th><td>17905</td><td>192  </td></tr>\n",
       "\t<tr><th scope=row>Merged</th><td>11257</td><td>NA   </td></tr>\n",
       "</tbody>\n",
       "</table>\n"
      ],
      "text/latex": [
       "\\begin{tabular}{r|ll}\n",
       "  & Genes & Cells\\\\\n",
       "\\hline\n",
       "\t1 & 17460 & 192  \\\\\n",
       "\t2 & 17657 & 192  \\\\\n",
       "\t3 & 17418 & 192  \\\\\n",
       "\t4 & 18182 & 192  \\\\\n",
       "\t5 & 19232 & 192  \\\\\n",
       "\t6 & 20596 & 192  \\\\\n",
       "\t7 & 20752 & 192  \\\\\n",
       "\t8 & 17905 & 192  \\\\\n",
       "\tMerged & 11257 & NA   \\\\\n",
       "\\end{tabular}\n"
      ],
      "text/markdown": [
       "\n",
       "| <!--/--> | Genes | Cells | \n",
       "|---|---|---|---|---|---|---|---|---|\n",
       "| 1 | 17460 | 192   | \n",
       "| 2 | 17657 | 192   | \n",
       "| 3 | 17418 | 192   | \n",
       "| 4 | 18182 | 192   | \n",
       "| 5 | 19232 | 192   | \n",
       "| 6 | 20596 | 192   | \n",
       "| 7 | 20752 | 192   | \n",
       "| 8 | 17905 | 192   | \n",
       "| Merged | 11257 | NA    | \n",
       "\n",
       "\n"
      ],
      "text/plain": [
       "       Genes Cells\n",
       "1      17460 192  \n",
       "2      17657 192  \n",
       "3      17418 192  \n",
       "4      18182 192  \n",
       "5      19232 192  \n",
       "6      20596 192  \n",
       "7      20752 192  \n",
       "8      17905 192  \n",
       "Merged 11257 NA   "
      ]
     },
     "metadata": {},
     "output_type": "display_data"
    },
    {
     "data": {
      "text/plain": [
       "   Min. 1st Qu.  Median    Mean 3rd Qu.    Max. \n",
       "  17418   17608   18044   18650   19573   20752 "
      ]
     },
     "metadata": {},
     "output_type": "display_data"
    }
   ],
   "source": [
    "tab <- t(cbind(rbind(sapply(matrices, dim), batch_n), c(length(m1234_m5678), NA, \"Merged\")))\n",
    "colnames(tab) <- c(\"Genes\", \"Cells\", \"Batch\")\n",
    "#tab[,c(1,3)]\n",
    "rownames(tab) <- tab[,c(\"Batch\")]\n",
    "tab[,c(1,2)]\n",
    "\n",
    "summary(as.integer(tab[,1])[1:8])"
   ]
  },
  {
   "cell_type": "markdown",
   "metadata": {
    "ExecuteTime": {
     "end_time": "2018-06-13T20:31:16.261711Z",
     "start_time": "2018-06-13T20:30:01.871Z"
    }
   },
   "source": [
    "From an average feature size of 18,650 we are now down to 11,257 common features between batches -- a very acceptable level of loss."
   ]
  },
  {
   "cell_type": "code",
   "execution_count": 7,
   "metadata": {
    "ExecuteTime": {
     "end_time": "2018-06-14T22:24:34.684058Z",
     "start_time": "2018-06-14T22:23:12.548Z"
    }
   },
   "outputs": [],
   "source": [
    "common_select <- lapply(matrices, FUN=function(mat){\n",
    "    return(mat[rownames(mat) %in% m1234_m5678,])\n",
    "})"
   ]
  },
  {
   "cell_type": "code",
   "execution_count": 8,
   "metadata": {
    "ExecuteTime": {
     "end_time": "2018-06-14T22:24:34.749122Z",
     "start_time": "2018-06-14T22:23:13.601Z"
    }
   },
   "outputs": [
    {
     "data": {
      "text/html": [
       "<ol class=list-inline>\n",
       "\t<li>11257</li>\n",
       "\t<li>1536</li>\n",
       "</ol>\n"
      ],
      "text/latex": [
       "\\begin{enumerate*}\n",
       "\\item 11257\n",
       "\\item 1536\n",
       "\\end{enumerate*}\n"
      ],
      "text/markdown": [
       "1. 11257\n",
       "2. 1536\n",
       "\n",
       "\n"
      ],
      "text/plain": [
       "[1] 11257  1536"
      ]
     },
     "metadata": {},
     "output_type": "display_data"
    }
   ],
   "source": [
    "# Simply horizontal cat\n",
    "super_matrix <- do.call(cbind, common_select)\n",
    "dim(super_matrix)"
   ]
  },
  {
   "cell_type": "code",
   "execution_count": 9,
   "metadata": {
    "ExecuteTime": {
     "end_time": "2018-06-14T22:24:35.184477Z",
     "start_time": "2018-06-14T22:23:14.684Z"
    }
   },
   "outputs": [
    {
     "name": "stderr",
     "output_type": "stream",
     "text": [
      "Blue [line] = plates\n",
      "Red  [dots] = batches\n",
      "No. cells with lib sizes > 20000 : 13\n"
     ]
    },
    {
     "data": {
      "image/png": "[encoded data removed]",
      "text/plain": [
       "Plot with title “Contamination Plot\n",
       " (post-merge)”"
      ]
     },
     "metadata": {},
     "output_type": "display_data"
    },
    {
     "data": {
      "image/png": "[encoded data removed]",
      "text/plain": [
       "Plot with title “Histogram of log10(counts)”"
      ]
     },
     "metadata": {},
     "output_type": "display_data"
    }
   ],
   "source": [
    "options(repr.plot.height = 5)\n",
    "p_2 <- contaminationPlot(colSums(super_matrix), title=\"(post-merge)\")"
   ]
  },
  {
   "cell_type": "markdown",
   "metadata": {},
   "source": [
    "As we can see, there is no real change from the pre-merge metrics: instead of 16 cells over 20,000 we have 13 instead; the average library size still lies between 100 - 10,000 counts."
   ]
  },
  {
   "cell_type": "markdown",
   "metadata": {},
   "source": [
    "## Retaining wanted barcodes\n",
    "\n",
    "We still have the 'cells' from the barcodes that were non-existent for that particular batch. Ideally we should have only cells selected from:\n",
    "\n",
    "    Batch1, Batch3, Batch5, Batch7 →  barcodes001-96  \n",
    "    Batch2, Batch4, Batch5, Batch6 →  barcodes097-192"
   ]
  },
  {
   "cell_type": "code",
   "execution_count": 13,
   "metadata": {
    "ExecuteTime": {
     "end_time": "2018-06-14T22:24:51.987291Z",
     "start_time": "2018-06-14T22:23:36.000Z"
    }
   },
   "outputs": [
    {
     "name": "stderr",
     "output_type": "stream",
     "text": [
      "001 - 096 : 384\n",
      "097 - 192 : 384\n",
      "Overlap in barcodes :0\n"
     ]
    },
    {
     "data": {
      "text/html": [
       "<ol class=list-inline>\n",
       "\t<li>'P1_B1_X1'</li>\n",
       "\t<li>'P1_B1_X2'</li>\n",
       "\t<li>'P1_B1_X3'</li>\n",
       "\t<li>'P1_B1_X4'</li>\n",
       "\t<li>'P1_B1_X5'</li>\n",
       "\t<li>'P1_B1_X6'</li>\n",
       "\t<li>'P2_B7_X91'</li>\n",
       "\t<li>'P2_B7_X92'</li>\n",
       "\t<li>'P2_B7_X93'</li>\n",
       "\t<li>'P2_B7_X94'</li>\n",
       "\t<li>'P2_B7_X95'</li>\n",
       "\t<li>'P2_B7_X96'</li>\n",
       "</ol>\n"
      ],
      "text/latex": [
       "\\begin{enumerate*}\n",
       "\\item 'P1\\_B1\\_X1'\n",
       "\\item 'P1\\_B1\\_X2'\n",
       "\\item 'P1\\_B1\\_X3'\n",
       "\\item 'P1\\_B1\\_X4'\n",
       "\\item 'P1\\_B1\\_X5'\n",
       "\\item 'P1\\_B1\\_X6'\n",
       "\\item 'P2\\_B7\\_X91'\n",
       "\\item 'P2\\_B7\\_X92'\n",
       "\\item 'P2\\_B7\\_X93'\n",
       "\\item 'P2\\_B7\\_X94'\n",
       "\\item 'P2\\_B7\\_X95'\n",
       "\\item 'P2\\_B7\\_X96'\n",
       "\\end{enumerate*}\n"
      ],
      "text/markdown": [
       "1. 'P1_B1_X1'\n",
       "2. 'P1_B1_X2'\n",
       "3. 'P1_B1_X3'\n",
       "4. 'P1_B1_X4'\n",
       "5. 'P1_B1_X5'\n",
       "6. 'P1_B1_X6'\n",
       "7. 'P2_B7_X91'\n",
       "8. 'P2_B7_X92'\n",
       "9. 'P2_B7_X93'\n",
       "10. 'P2_B7_X94'\n",
       "11. 'P2_B7_X95'\n",
       "12. 'P2_B7_X96'\n",
       "\n",
       "\n"
      ],
      "text/plain": [
       " [1] \"P1_B1_X1\"  \"P1_B1_X2\"  \"P1_B1_X3\"  \"P1_B1_X4\"  \"P1_B1_X5\"  \"P1_B1_X6\" \n",
       " [7] \"P2_B7_X91\" \"P2_B7_X92\" \"P2_B7_X93\" \"P2_B7_X94\" \"P2_B7_X95\" \"P2_B7_X96\""
      ]
     },
     "metadata": {},
     "output_type": "display_data"
    },
    {
     "data": {
      "text/html": [
       "<ol class=list-inline>\n",
       "\t<li>'P1_B2_X97'</li>\n",
       "\t<li>'P1_B2_X98'</li>\n",
       "\t<li>'P1_B2_X99'</li>\n",
       "\t<li>'P1_B2_X100'</li>\n",
       "\t<li>'P1_B2_X101'</li>\n",
       "\t<li>'P1_B2_X102'</li>\n",
       "\t<li>'P2_B8_X187'</li>\n",
       "\t<li>'P2_B8_X188'</li>\n",
       "\t<li>'P2_B8_X189'</li>\n",
       "\t<li>'P2_B8_X190'</li>\n",
       "\t<li>'P2_B8_X191'</li>\n",
       "\t<li>'P2_B8_X192'</li>\n",
       "</ol>\n"
      ],
      "text/latex": [
       "\\begin{enumerate*}\n",
       "\\item 'P1\\_B2\\_X97'\n",
       "\\item 'P1\\_B2\\_X98'\n",
       "\\item 'P1\\_B2\\_X99'\n",
       "\\item 'P1\\_B2\\_X100'\n",
       "\\item 'P1\\_B2\\_X101'\n",
       "\\item 'P1\\_B2\\_X102'\n",
       "\\item 'P2\\_B8\\_X187'\n",
       "\\item 'P2\\_B8\\_X188'\n",
       "\\item 'P2\\_B8\\_X189'\n",
       "\\item 'P2\\_B8\\_X190'\n",
       "\\item 'P2\\_B8\\_X191'\n",
       "\\item 'P2\\_B8\\_X192'\n",
       "\\end{enumerate*}\n"
      ],
      "text/markdown": [
       "1. 'P1_B2_X97'\n",
       "2. 'P1_B2_X98'\n",
       "3. 'P1_B2_X99'\n",
       "4. 'P1_B2_X100'\n",
       "5. 'P1_B2_X101'\n",
       "6. 'P1_B2_X102'\n",
       "7. 'P2_B8_X187'\n",
       "8. 'P2_B8_X188'\n",
       "9. 'P2_B8_X189'\n",
       "10. 'P2_B8_X190'\n",
       "11. 'P2_B8_X191'\n",
       "12. 'P2_B8_X192'\n",
       "\n",
       "\n"
      ],
      "text/plain": [
       " [1] \"P1_B2_X97\"  \"P1_B2_X98\"  \"P1_B2_X99\"  \"P1_B2_X100\" \"P1_B2_X101\"\n",
       " [6] \"P1_B2_X102\" \"P2_B8_X187\" \"P2_B8_X188\" \"P2_B8_X189\" \"P2_B8_X190\"\n",
       "[11] \"P2_B8_X191\" \"P2_B8_X192\""
      ]
     },
     "metadata": {},
     "output_type": "display_data"
    }
   ],
   "source": [
    "nam <- colnames(super_matrix)\n",
    "odd_barcodes <- nam[grepl(\"P\\\\d+_B\\\\d*[13579]_X([1-9]|[1-8][0-9]|9[0-6])$\", nam)]\n",
    "eve_barcodes <- nam[grepl(\"P\\\\d+_B\\\\d*[24680]_X(9[7-9]|[1-9][0-9]{2})$\", nam)]\n",
    "\n",
    "message(\"001 - 096 : \", length(odd_barcodes))\n",
    "message(\"097 - 192 : \", length(eve_barcodes))\n",
    "message(\"Overlap in barcodes :\", sum(odd_barcodes %in% eve_barcodes))\n",
    "\n",
    "c(head(odd_barcodes), tail(odd_barcodes))\n",
    "c(head(eve_barcodes), tail(eve_barcodes))"
   ]
  },
  {
   "cell_type": "code",
   "execution_count": 14,
   "metadata": {
    "ExecuteTime": {
     "end_time": "2018-06-14T22:24:58.812518Z",
     "start_time": "2018-06-14T22:23:42.651Z"
    }
   },
   "outputs": [],
   "source": [
    "library(gtools)\n",
    "wanted_codes <- mixedsort(c(odd_barcodes, eve_barcodes))   # human sort\n",
    "#wanted_codes"
   ]
  },
  {
   "cell_type": "code",
   "execution_count": 15,
   "metadata": {
    "ExecuteTime": {
     "end_time": "2018-06-14T22:25:00.452092Z",
     "start_time": "2018-06-14T22:23:44.181Z"
    },
    "scrolled": false
   },
   "outputs": [
    {
     "data": {
      "text/html": [
       "<ol class=list-inline>\n",
       "\t<li>11257</li>\n",
       "\t<li>768</li>\n",
       "</ol>\n"
      ],
      "text/latex": [
       "\\begin{enumerate*}\n",
       "\\item 11257\n",
       "\\item 768\n",
       "\\end{enumerate*}\n"
      ],
      "text/markdown": [
       "1. 11257\n",
       "2. 768\n",
       "\n",
       "\n"
      ],
      "text/plain": [
       "[1] 11257   768"
      ]
     },
     "metadata": {},
     "output_type": "display_data"
    },
    {
     "data": {
      "text/html": [
       "<ol class=list-inline>\n",
       "\t<li>11257</li>\n",
       "\t<li>768</li>\n",
       "</ol>\n"
      ],
      "text/latex": [
       "\\begin{enumerate*}\n",
       "\\item 11257\n",
       "\\item 768\n",
       "\\end{enumerate*}\n"
      ],
      "text/markdown": [
       "1. 11257\n",
       "2. 768\n",
       "\n",
       "\n"
      ],
      "text/plain": [
       "[1] 11257   768"
      ]
     },
     "metadata": {},
     "output_type": "display_data"
    },
    {
     "name": "stderr",
     "output_type": "stream",
     "text": [
      "Blue [line] = plates\n",
      "Red  [dots] = batches\n",
      "No. cells with lib sizes > 20000 : 0\n",
      "Blue [line] = plates\n",
      "Red  [dots] = batches\n",
      "No. cells with lib sizes > 20000 : 13\n"
     ]
    },
    {
     "data": {
      "image/png": "[encoded data removed]",
      "text/plain": [
       "Plot with title “Histogram of log10(counts)”"
      ]
     },
     "metadata": {},
     "output_type": "display_data"
    }
   ],
   "source": [
    "clean_matrix <- super_matrix[,wanted_codes]\n",
    "dirty_matrix <- super_matrix[,!(colnames(super_matrix) %in% wanted_codes)]\n",
    "#\n",
    "dim(clean_matrix)\n",
    "dim(dirty_matrix)\n",
    "\n",
    "options(repr.plot.height = 6)\n",
    "par(mfcol=c(2,2))\n",
    "contaminationPlot(colSums(dirty_matrix), title=\"Dirty (invalid barcodes only)\", filtered=T)\n",
    "contaminationPlot(colSums(clean_matrix), title=\"Clean (valid barcodes only)\", filtered=T)"
   ]
  },
  {
   "cell_type": "markdown",
   "metadata": {},
   "source": [
    "With our false cells removed (10 - 100 counts), we notice a marked shift in the counts of the true cells towards 1,000-10,000 range.\n"
   ]
  },
  {
   "cell_type": "markdown",
   "metadata": {},
   "source": [
    "## Feature Annotation\n",
    "\n",
    "A quick look at our features reveals that they have rather uninformative  names:"
   ]
  },
  {
   "cell_type": "code",
   "execution_count": 18,
   "metadata": {
    "ExecuteTime": {
     "end_time": "2018-06-14T22:25:19.799779Z",
     "start_time": "2018-06-14T22:24:03.838Z"
    },
    "scrolled": true
   },
   "outputs": [
    {
     "data": {
      "text/html": [
       "<ol class=list-inline>\n",
       "\t<li>'ENSDARG00000000002'</li>\n",
       "\t<li>'ENSDARG00000000018'</li>\n",
       "\t<li>'ENSDARG00000000019'</li>\n",
       "\t<li>'ENSDARG00000000068'</li>\n",
       "\t<li>'ENSDARG00000000069'</li>\n",
       "\t<li>'ENSDARG00000000086'</li>\n",
       "\t<li>'ENSDARG00000000102'</li>\n",
       "\t<li>'ENSDARG00000000103'</li>\n",
       "\t<li>'ENSDARG00000000142'</li>\n",
       "\t<li>'ENSDARG00000000161'</li>\n",
       "\t<li>'ENSDARG00000000183'</li>\n",
       "\t<li>'ENSDARG00000000189'</li>\n",
       "\t<li>'ENSDARG00000000229'</li>\n",
       "\t<li>'ENSDARG00000000241'</li>\n",
       "\t<li>'ENSDARG00000000324'</li>\n",
       "\t<li>'ENSDARG00000000370'</li>\n",
       "\t<li>'ENSDARG00000000384'</li>\n",
       "\t<li>'ENSDARG00000000394'</li>\n",
       "\t<li>'ENSDARG00000000442'</li>\n",
       "\t<li>'ENSDARG00000000489'</li>\n",
       "\t<li>'ENSDARG00000000503'</li>\n",
       "\t<li>'ENSDARG00000000529'</li>\n",
       "\t<li>'ENSDARG00000000542'</li>\n",
       "\t<li>'ENSDARG00000000551'</li>\n",
       "\t<li>'ENSDARG00000000563'</li>\n",
       "\t<li>'ENSDARG00000000567'</li>\n",
       "\t<li>'ENSDARG00000000568'</li>\n",
       "\t<li>'ENSDARG00000000606'</li>\n",
       "\t<li>'ENSDARG00000000631'</li>\n",
       "\t<li>'ENSDARG00000000666'</li>\n",
       "\t<li>'ENSDARG00000000729'</li>\n",
       "\t<li>'ENSDARG00000000767'</li>\n",
       "\t<li>'ENSDARG00000000779'</li>\n",
       "\t<li>'ENSDARG00000000796'</li>\n",
       "\t<li>'ENSDARG00000000837'</li>\n",
       "\t<li>'ENSDARG00000000853'</li>\n",
       "\t<li>'ENSDARG00000000857'</li>\n",
       "\t<li>'ENSDARG00000000935'</li>\n",
       "\t<li>'ENSDARG00000000943'</li>\n",
       "\t<li>'ENSDARG00000000966'</li>\n",
       "\t<li>'ENSDARG00000000972'</li>\n",
       "\t<li>'ENSDARG00000001009'</li>\n",
       "\t<li>'ENSDARG00000001057'</li>\n",
       "\t<li>'ENSDARG00000001127'</li>\n",
       "\t<li>'ENSDARG00000001129'</li>\n",
       "\t<li>'ENSDARG00000001162'</li>\n",
       "\t<li>'ENSDARG00000001210'</li>\n",
       "\t<li>'ENSDARG00000001220'</li>\n",
       "\t<li>'ENSDARG00000001241'</li>\n",
       "\t<li>'ENSDARG00000001244'</li>\n",
       "\t<li>'ENSDARG00000001285'</li>\n",
       "\t<li>'ENSDARG00000001447'</li>\n",
       "\t<li>'ENSDARG00000001463'</li>\n",
       "\t<li>'ENSDARG00000001549'</li>\n",
       "\t<li>'ENSDARG00000001557'</li>\n",
       "\t<li>'ENSDARG00000001559'</li>\n",
       "\t<li>'ENSDARG00000001578'</li>\n",
       "\t<li>'ENSDARG00000001621'</li>\n",
       "\t<li>'ENSDARG00000001634'</li>\n",
       "\t<li>'ENSDARG00000001676'</li>\n",
       "\t<li>'ENSDARG00000001729'</li>\n",
       "\t<li>'ENSDARG00000001734'</li>\n",
       "\t<li>'ENSDARG00000001754'</li>\n",
       "\t<li>'ENSDARG00000001760'</li>\n",
       "\t<li>'ENSDARG00000001769'</li>\n",
       "\t<li>'ENSDARG00000001776'</li>\n",
       "\t<li>'ENSDARG00000001777'</li>\n",
       "\t<li>'ENSDARG00000001781'</li>\n",
       "\t<li>'ENSDARG00000001782'</li>\n",
       "\t<li>'ENSDARG00000001785'</li>\n",
       "\t<li>'ENSDARG00000001788'</li>\n",
       "\t<li>'ENSDARG00000001803'</li>\n",
       "\t<li>'ENSDARG00000001807'</li>\n",
       "\t<li>'ENSDARG00000001829'</li>\n",
       "\t<li>'ENSDARG00000001835'</li>\n",
       "\t<li>'ENSDARG00000001857'</li>\n",
       "\t<li>'ENSDARG00000001870'</li>\n",
       "\t<li>'ENSDARG00000001873'</li>\n",
       "\t<li>'ENSDARG00000001879'</li>\n",
       "\t<li>'ENSDARG00000001881'</li>\n",
       "\t<li>'ENSDARG00000001888'</li>\n",
       "\t<li>'ENSDARG00000001889'</li>\n",
       "\t<li>'ENSDARG00000001890'</li>\n",
       "\t<li>'ENSDARG00000001891'</li>\n",
       "\t<li>'ENSDARG00000001897'</li>\n",
       "\t<li>'ENSDARG00000001910'</li>\n",
       "\t<li>'ENSDARG00000001929'</li>\n",
       "\t<li>'ENSDARG00000001930'</li>\n",
       "\t<li>'ENSDARG00000001940'</li>\n",
       "\t<li>'ENSDARG00000001950'</li>\n",
       "\t<li>'ENSDARG00000001953'</li>\n",
       "\t<li>'ENSDARG00000001968'</li>\n",
       "\t<li>'ENSDARG00000001972'</li>\n",
       "\t<li>'ENSDARG00000001994'</li>\n",
       "\t<li>'ENSDARG00000002002'</li>\n",
       "\t<li>'ENSDARG00000002006'</li>\n",
       "\t<li>'ENSDARG00000002013'</li>\n",
       "\t<li>'ENSDARG00000002020'</li>\n",
       "\t<li>'ENSDARG00000002021'</li>\n",
       "\t<li>'ENSDARG00000002031'</li>\n",
       "</ol>\n"
      ],
      "text/latex": [
       "\\begin{enumerate*}\n",
       "\\item 'ENSDARG00000000002'\n",
       "\\item 'ENSDARG00000000018'\n",
       "\\item 'ENSDARG00000000019'\n",
       "\\item 'ENSDARG00000000068'\n",
       "\\item 'ENSDARG00000000069'\n",
       "\\item 'ENSDARG00000000086'\n",
       "\\item 'ENSDARG00000000102'\n",
       "\\item 'ENSDARG00000000103'\n",
       "\\item 'ENSDARG00000000142'\n",
       "\\item 'ENSDARG00000000161'\n",
       "\\item 'ENSDARG00000000183'\n",
       "\\item 'ENSDARG00000000189'\n",
       "\\item 'ENSDARG00000000229'\n",
       "\\item 'ENSDARG00000000241'\n",
       "\\item 'ENSDARG00000000324'\n",
       "\\item 'ENSDARG00000000370'\n",
       "\\item 'ENSDARG00000000384'\n",
       "\\item 'ENSDARG00000000394'\n",
       "\\item 'ENSDARG00000000442'\n",
       "\\item 'ENSDARG00000000489'\n",
       "\\item 'ENSDARG00000000503'\n",
       "\\item 'ENSDARG00000000529'\n",
       "\\item 'ENSDARG00000000542'\n",
       "\\item 'ENSDARG00000000551'\n",
       "\\item 'ENSDARG00000000563'\n",
       "\\item 'ENSDARG00000000567'\n",
       "\\item 'ENSDARG00000000568'\n",
       "\\item 'ENSDARG00000000606'\n",
       "\\item 'ENSDARG00000000631'\n",
       "\\item 'ENSDARG00000000666'\n",
       "\\item 'ENSDARG00000000729'\n",
       "\\item 'ENSDARG00000000767'\n",
       "\\item 'ENSDARG00000000779'\n",
       "\\item 'ENSDARG00000000796'\n",
       "\\item 'ENSDARG00000000837'\n",
       "\\item 'ENSDARG00000000853'\n",
       "\\item 'ENSDARG00000000857'\n",
       "\\item 'ENSDARG00000000935'\n",
       "\\item 'ENSDARG00000000943'\n",
       "\\item 'ENSDARG00000000966'\n",
       "\\item 'ENSDARG00000000972'\n",
       "\\item 'ENSDARG00000001009'\n",
       "\\item 'ENSDARG00000001057'\n",
       "\\item 'ENSDARG00000001127'\n",
       "\\item 'ENSDARG00000001129'\n",
       "\\item 'ENSDARG00000001162'\n",
       "\\item 'ENSDARG00000001210'\n",
       "\\item 'ENSDARG00000001220'\n",
       "\\item 'ENSDARG00000001241'\n",
       "\\item 'ENSDARG00000001244'\n",
       "\\item 'ENSDARG00000001285'\n",
       "\\item 'ENSDARG00000001447'\n",
       "\\item 'ENSDARG00000001463'\n",
       "\\item 'ENSDARG00000001549'\n",
       "\\item 'ENSDARG00000001557'\n",
       "\\item 'ENSDARG00000001559'\n",
       "\\item 'ENSDARG00000001578'\n",
       "\\item 'ENSDARG00000001621'\n",
       "\\item 'ENSDARG00000001634'\n",
       "\\item 'ENSDARG00000001676'\n",
       "\\item 'ENSDARG00000001729'\n",
       "\\item 'ENSDARG00000001734'\n",
       "\\item 'ENSDARG00000001754'\n",
       "\\item 'ENSDARG00000001760'\n",
       "\\item 'ENSDARG00000001769'\n",
       "\\item 'ENSDARG00000001776'\n",
       "\\item 'ENSDARG00000001777'\n",
       "\\item 'ENSDARG00000001781'\n",
       "\\item 'ENSDARG00000001782'\n",
       "\\item 'ENSDARG00000001785'\n",
       "\\item 'ENSDARG00000001788'\n",
       "\\item 'ENSDARG00000001803'\n",
       "\\item 'ENSDARG00000001807'\n",
       "\\item 'ENSDARG00000001829'\n",
       "\\item 'ENSDARG00000001835'\n",
       "\\item 'ENSDARG00000001857'\n",
       "\\item 'ENSDARG00000001870'\n",
       "\\item 'ENSDARG00000001873'\n",
       "\\item 'ENSDARG00000001879'\n",
       "\\item 'ENSDARG00000001881'\n",
       "\\item 'ENSDARG00000001888'\n",
       "\\item 'ENSDARG00000001889'\n",
       "\\item 'ENSDARG00000001890'\n",
       "\\item 'ENSDARG00000001891'\n",
       "\\item 'ENSDARG00000001897'\n",
       "\\item 'ENSDARG00000001910'\n",
       "\\item 'ENSDARG00000001929'\n",
       "\\item 'ENSDARG00000001930'\n",
       "\\item 'ENSDARG00000001940'\n",
       "\\item 'ENSDARG00000001950'\n",
       "\\item 'ENSDARG00000001953'\n",
       "\\item 'ENSDARG00000001968'\n",
       "\\item 'ENSDARG00000001972'\n",
       "\\item 'ENSDARG00000001994'\n",
       "\\item 'ENSDARG00000002002'\n",
       "\\item 'ENSDARG00000002006'\n",
       "\\item 'ENSDARG00000002013'\n",
       "\\item 'ENSDARG00000002020'\n",
       "\\item 'ENSDARG00000002021'\n",
       "\\item 'ENSDARG00000002031'\n",
       "\\end{enumerate*}\n"
      ],
      "text/markdown": [
       "1. 'ENSDARG00000000002'\n",
       "2. 'ENSDARG00000000018'\n",
       "3. 'ENSDARG00000000019'\n",
       "4. 'ENSDARG00000000068'\n",
       "5. 'ENSDARG00000000069'\n",
       "6. 'ENSDARG00000000086'\n",
       "7. 'ENSDARG00000000102'\n",
       "8. 'ENSDARG00000000103'\n",
       "9. 'ENSDARG00000000142'\n",
       "10. 'ENSDARG00000000161'\n",
       "11. 'ENSDARG00000000183'\n",
       "12. 'ENSDARG00000000189'\n",
       "13. 'ENSDARG00000000229'\n",
       "14. 'ENSDARG00000000241'\n",
       "15. 'ENSDARG00000000324'\n",
       "16. 'ENSDARG00000000370'\n",
       "17. 'ENSDARG00000000384'\n",
       "18. 'ENSDARG00000000394'\n",
       "19. 'ENSDARG00000000442'\n",
       "20. 'ENSDARG00000000489'\n",
       "21. 'ENSDARG00000000503'\n",
       "22. 'ENSDARG00000000529'\n",
       "23. 'ENSDARG00000000542'\n",
       "24. 'ENSDARG00000000551'\n",
       "25. 'ENSDARG00000000563'\n",
       "26. 'ENSDARG00000000567'\n",
       "27. 'ENSDARG00000000568'\n",
       "28. 'ENSDARG00000000606'\n",
       "29. 'ENSDARG00000000631'\n",
       "30. 'ENSDARG00000000666'\n",
       "31. 'ENSDARG00000000729'\n",
       "32. 'ENSDARG00000000767'\n",
       "33. 'ENSDARG00000000779'\n",
       "34. 'ENSDARG00000000796'\n",
       "35. 'ENSDARG00000000837'\n",
       "36. 'ENSDARG00000000853'\n",
       "37. 'ENSDARG00000000857'\n",
       "38. 'ENSDARG00000000935'\n",
       "39. 'ENSDARG00000000943'\n",
       "40. 'ENSDARG00000000966'\n",
       "41. 'ENSDARG00000000972'\n",
       "42. 'ENSDARG00000001009'\n",
       "43. 'ENSDARG00000001057'\n",
       "44. 'ENSDARG00000001127'\n",
       "45. 'ENSDARG00000001129'\n",
       "46. 'ENSDARG00000001162'\n",
       "47. 'ENSDARG00000001210'\n",
       "48. 'ENSDARG00000001220'\n",
       "49. 'ENSDARG00000001241'\n",
       "50. 'ENSDARG00000001244'\n",
       "51. 'ENSDARG00000001285'\n",
       "52. 'ENSDARG00000001447'\n",
       "53. 'ENSDARG00000001463'\n",
       "54. 'ENSDARG00000001549'\n",
       "55. 'ENSDARG00000001557'\n",
       "56. 'ENSDARG00000001559'\n",
       "57. 'ENSDARG00000001578'\n",
       "58. 'ENSDARG00000001621'\n",
       "59. 'ENSDARG00000001634'\n",
       "60. 'ENSDARG00000001676'\n",
       "61. 'ENSDARG00000001729'\n",
       "62. 'ENSDARG00000001734'\n",
       "63. 'ENSDARG00000001754'\n",
       "64. 'ENSDARG00000001760'\n",
       "65. 'ENSDARG00000001769'\n",
       "66. 'ENSDARG00000001776'\n",
       "67. 'ENSDARG00000001777'\n",
       "68. 'ENSDARG00000001781'\n",
       "69. 'ENSDARG00000001782'\n",
       "70. 'ENSDARG00000001785'\n",
       "71. 'ENSDARG00000001788'\n",
       "72. 'ENSDARG00000001803'\n",
       "73. 'ENSDARG00000001807'\n",
       "74. 'ENSDARG00000001829'\n",
       "75. 'ENSDARG00000001835'\n",
       "76. 'ENSDARG00000001857'\n",
       "77. 'ENSDARG00000001870'\n",
       "78. 'ENSDARG00000001873'\n",
       "79. 'ENSDARG00000001879'\n",
       "80. 'ENSDARG00000001881'\n",
       "81. 'ENSDARG00000001888'\n",
       "82. 'ENSDARG00000001889'\n",
       "83. 'ENSDARG00000001890'\n",
       "84. 'ENSDARG00000001891'\n",
       "85. 'ENSDARG00000001897'\n",
       "86. 'ENSDARG00000001910'\n",
       "87. 'ENSDARG00000001929'\n",
       "88. 'ENSDARG00000001930'\n",
       "89. 'ENSDARG00000001940'\n",
       "90. 'ENSDARG00000001950'\n",
       "91. 'ENSDARG00000001953'\n",
       "92. 'ENSDARG00000001968'\n",
       "93. 'ENSDARG00000001972'\n",
       "94. 'ENSDARG00000001994'\n",
       "95. 'ENSDARG00000002002'\n",
       "96. 'ENSDARG00000002006'\n",
       "97. 'ENSDARG00000002013'\n",
       "98. 'ENSDARG00000002020'\n",
       "99. 'ENSDARG00000002021'\n",
       "100. 'ENSDARG00000002031'\n",
       "\n",
       "\n"
      ],
      "text/plain": [
       "  [1] \"ENSDARG00000000002\" \"ENSDARG00000000018\" \"ENSDARG00000000019\"\n",
       "  [4] \"ENSDARG00000000068\" \"ENSDARG00000000069\" \"ENSDARG00000000086\"\n",
       "  [7] \"ENSDARG00000000102\" \"ENSDARG00000000103\" \"ENSDARG00000000142\"\n",
       " [10] \"ENSDARG00000000161\" \"ENSDARG00000000183\" \"ENSDARG00000000189\"\n",
       " [13] \"ENSDARG00000000229\" \"ENSDARG00000000241\" \"ENSDARG00000000324\"\n",
       " [16] \"ENSDARG00000000370\" \"ENSDARG00000000384\" \"ENSDARG00000000394\"\n",
       " [19] \"ENSDARG00000000442\" \"ENSDARG00000000489\" \"ENSDARG00000000503\"\n",
       " [22] \"ENSDARG00000000529\" \"ENSDARG00000000542\" \"ENSDARG00000000551\"\n",
       " [25] \"ENSDARG00000000563\" \"ENSDARG00000000567\" \"ENSDARG00000000568\"\n",
       " [28] \"ENSDARG00000000606\" \"ENSDARG00000000631\" \"ENSDARG00000000666\"\n",
       " [31] \"ENSDARG00000000729\" \"ENSDARG00000000767\" \"ENSDARG00000000779\"\n",
       " [34] \"ENSDARG00000000796\" \"ENSDARG00000000837\" \"ENSDARG00000000853\"\n",
       " [37] \"ENSDARG00000000857\" \"ENSDARG00000000935\" \"ENSDARG00000000943\"\n",
       " [40] \"ENSDARG00000000966\" \"ENSDARG00000000972\" \"ENSDARG00000001009\"\n",
       " [43] \"ENSDARG00000001057\" \"ENSDARG00000001127\" \"ENSDARG00000001129\"\n",
       " [46] \"ENSDARG00000001162\" \"ENSDARG00000001210\" \"ENSDARG00000001220\"\n",
       " [49] \"ENSDARG00000001241\" \"ENSDARG00000001244\" \"ENSDARG00000001285\"\n",
       " [52] \"ENSDARG00000001447\" \"ENSDARG00000001463\" \"ENSDARG00000001549\"\n",
       " [55] \"ENSDARG00000001557\" \"ENSDARG00000001559\" \"ENSDARG00000001578\"\n",
       " [58] \"ENSDARG00000001621\" \"ENSDARG00000001634\" \"ENSDARG00000001676\"\n",
       " [61] \"ENSDARG00000001729\" \"ENSDARG00000001734\" \"ENSDARG00000001754\"\n",
       " [64] \"ENSDARG00000001760\" \"ENSDARG00000001769\" \"ENSDARG00000001776\"\n",
       " [67] \"ENSDARG00000001777\" \"ENSDARG00000001781\" \"ENSDARG00000001782\"\n",
       " [70] \"ENSDARG00000001785\" \"ENSDARG00000001788\" \"ENSDARG00000001803\"\n",
       " [73] \"ENSDARG00000001807\" \"ENSDARG00000001829\" \"ENSDARG00000001835\"\n",
       " [76] \"ENSDARG00000001857\" \"ENSDARG00000001870\" \"ENSDARG00000001873\"\n",
       " [79] \"ENSDARG00000001879\" \"ENSDARG00000001881\" \"ENSDARG00000001888\"\n",
       " [82] \"ENSDARG00000001889\" \"ENSDARG00000001890\" \"ENSDARG00000001891\"\n",
       " [85] \"ENSDARG00000001897\" \"ENSDARG00000001910\" \"ENSDARG00000001929\"\n",
       " [88] \"ENSDARG00000001930\" \"ENSDARG00000001940\" \"ENSDARG00000001950\"\n",
       " [91] \"ENSDARG00000001953\" \"ENSDARG00000001968\" \"ENSDARG00000001972\"\n",
       " [94] \"ENSDARG00000001994\" \"ENSDARG00000002002\" \"ENSDARG00000002006\"\n",
       " [97] \"ENSDARG00000002013\" \"ENSDARG00000002020\" \"ENSDARG00000002021\"\n",
       "[100] \"ENSDARG00000002031\""
      ]
     },
     "metadata": {},
     "output_type": "display_data"
    }
   ],
   "source": [
    "head(rownames(clean_matrix),100)"
   ]
  },
  {
   "cell_type": "markdown",
   "metadata": {},
   "source": [
    "ENSDARG suggests that they are GeneIDs and not Transcript IDs (ENSDART), so we must tread carefully and remove any duplicates that may occur.\n",
    "\n",
    "Our reference genome was **Danio_rerio_Zv9_ens74_extended3_genes_ERCC92_GFP.fa**, i.e. ensembl release 74.\n",
    "\n",
    "Let us look through the BioMart archives to find the annotations from that release:"
   ]
  },
  {
   "cell_type": "code",
   "execution_count": 19,
   "metadata": {
    "ExecuteTime": {
     "end_time": "2018-06-14T22:29:05.029728Z",
     "start_time": "2018-06-14T22:27:46.085Z"
    },
    "scrolled": true
   },
   "outputs": [
    {
     "data": {
      "text/html": [
       "<table>\n",
       "<thead><tr><th scope=col>name</th><th scope=col>date</th><th scope=col>url</th><th scope=col>version</th><th scope=col>current_release</th></tr></thead>\n",
       "<tbody>\n",
       "\t<tr><td>Ensembl GRCh37                    </td><td>Feb 2014                          </td><td>http://grch37.ensembl.org         </td><td>GRCh37                            </td><td>                                  </td></tr>\n",
       "\t<tr><td>Ensembl 92                        </td><td>Apr 2018                          </td><td>http://apr2018.archive.ensembl.org</td><td>92                                </td><td>*                                 </td></tr>\n",
       "\t<tr><td>Ensembl 91                        </td><td>Dec 2017                          </td><td>http://dec2017.archive.ensembl.org</td><td>91                                </td><td>                                  </td></tr>\n",
       "\t<tr><td>Ensembl 90                        </td><td>Aug 2017                          </td><td>http://aug2017.archive.ensembl.org</td><td>90                                </td><td>                                  </td></tr>\n",
       "\t<tr><td>Ensembl 89                        </td><td>May 2017                          </td><td>http://may2017.archive.ensembl.org</td><td>89                                </td><td>                                  </td></tr>\n",
       "\t<tr><td>Ensembl 88                        </td><td>Mar 2017                          </td><td>http://mar2017.archive.ensembl.org</td><td>88                                </td><td>                                  </td></tr>\n",
       "\t<tr><td>Ensembl 87                        </td><td>Dec 2016                          </td><td>http://dec2016.archive.ensembl.org</td><td>87                                </td><td>                                  </td></tr>\n",
       "\t<tr><td>Ensembl 86                        </td><td>Oct 2016                          </td><td>http://oct2016.archive.ensembl.org</td><td>86                                </td><td>                                  </td></tr>\n",
       "\t<tr><td>Ensembl 85                        </td><td>Jul 2016                          </td><td>http://jul2016.archive.ensembl.org</td><td>85                                </td><td>                                  </td></tr>\n",
       "\t<tr><td>Ensembl 84                        </td><td>Mar 2016                          </td><td>http://mar2016.archive.ensembl.org</td><td>84                                </td><td>                                  </td></tr>\n",
       "\t<tr><td>Ensembl 83                        </td><td>Dec 2015                          </td><td>http://dec2015.archive.ensembl.org</td><td>83                                </td><td>                                  </td></tr>\n",
       "\t<tr><td>Ensembl 82                        </td><td>Sep 2015                          </td><td>http://sep2015.archive.ensembl.org</td><td>82                                </td><td>                                  </td></tr>\n",
       "\t<tr><td>Ensembl 81                        </td><td>Jul 2015                          </td><td>http://jul2015.archive.ensembl.org</td><td>81                                </td><td>                                  </td></tr>\n",
       "\t<tr><td>Ensembl 80                        </td><td>May 2015                          </td><td>http://may2015.archive.ensembl.org</td><td>80                                </td><td>                                  </td></tr>\n",
       "\t<tr><td>Ensembl 79                        </td><td>Mar 2015                          </td><td>http://mar2015.archive.ensembl.org</td><td>79                                </td><td>                                  </td></tr>\n",
       "\t<tr><td>Ensembl 78                        </td><td>Dec 2014                          </td><td>http://dec2014.archive.ensembl.org</td><td>78                                </td><td>                                  </td></tr>\n",
       "\t<tr><td>Ensembl 77                        </td><td>Oct 2014                          </td><td>http://oct2014.archive.ensembl.org</td><td>77                                </td><td>                                  </td></tr>\n",
       "\t<tr><td>Ensembl 76                        </td><td>Aug 2014                          </td><td>http://aug2014.archive.ensembl.org</td><td>76                                </td><td>                                  </td></tr>\n",
       "\t<tr><td>Ensembl 75                        </td><td>Feb 2014                          </td><td>http://feb2014.archive.ensembl.org</td><td>75                                </td><td>                                  </td></tr>\n",
       "\t<tr><td>Ensembl 74                        </td><td>Dec 2013                          </td><td>http://dec2013.archive.ensembl.org</td><td>74                                </td><td>                                  </td></tr>\n",
       "\t<tr><td>Ensembl 67                        </td><td>May 2012                          </td><td>http://may2012.archive.ensembl.org</td><td>67                                </td><td>                                  </td></tr>\n",
       "\t<tr><td>Ensembl 54                        </td><td>May 2009                          </td><td>http://may2009.archive.ensembl.org</td><td>54                                </td><td>                                  </td></tr>\n",
       "</tbody>\n",
       "</table>\n"
      ],
      "text/latex": [
       "\\begin{tabular}{r|lllll}\n",
       " name & date & url & version & current\\_release\\\\\n",
       "\\hline\n",
       "\t Ensembl GRCh37                     & Feb 2014                           & http://grch37.ensembl.org          & GRCh37                             &                                   \\\\\n",
       "\t Ensembl 92                         & Apr 2018                           & http://apr2018.archive.ensembl.org & 92                                 & *                                 \\\\\n",
       "\t Ensembl 91                         & Dec 2017                           & http://dec2017.archive.ensembl.org & 91                                 &                                   \\\\\n",
       "\t Ensembl 90                         & Aug 2017                           & http://aug2017.archive.ensembl.org & 90                                 &                                   \\\\\n",
       "\t Ensembl 89                         & May 2017                           & http://may2017.archive.ensembl.org & 89                                 &                                   \\\\\n",
       "\t Ensembl 88                         & Mar 2017                           & http://mar2017.archive.ensembl.org & 88                                 &                                   \\\\\n",
       "\t Ensembl 87                         & Dec 2016                           & http://dec2016.archive.ensembl.org & 87                                 &                                   \\\\\n",
       "\t Ensembl 86                         & Oct 2016                           & http://oct2016.archive.ensembl.org & 86                                 &                                   \\\\\n",
       "\t Ensembl 85                         & Jul 2016                           & http://jul2016.archive.ensembl.org & 85                                 &                                   \\\\\n",
       "\t Ensembl 84                         & Mar 2016                           & http://mar2016.archive.ensembl.org & 84                                 &                                   \\\\\n",
       "\t Ensembl 83                         & Dec 2015                           & http://dec2015.archive.ensembl.org & 83                                 &                                   \\\\\n",
       "\t Ensembl 82                         & Sep 2015                           & http://sep2015.archive.ensembl.org & 82                                 &                                   \\\\\n",
       "\t Ensembl 81                         & Jul 2015                           & http://jul2015.archive.ensembl.org & 81                                 &                                   \\\\\n",
       "\t Ensembl 80                         & May 2015                           & http://may2015.archive.ensembl.org & 80                                 &                                   \\\\\n",
       "\t Ensembl 79                         & Mar 2015                           & http://mar2015.archive.ensembl.org & 79                                 &                                   \\\\\n",
       "\t Ensembl 78                         & Dec 2014                           & http://dec2014.archive.ensembl.org & 78                                 &                                   \\\\\n",
       "\t Ensembl 77                         & Oct 2014                           & http://oct2014.archive.ensembl.org & 77                                 &                                   \\\\\n",
       "\t Ensembl 76                         & Aug 2014                           & http://aug2014.archive.ensembl.org & 76                                 &                                   \\\\\n",
       "\t Ensembl 75                         & Feb 2014                           & http://feb2014.archive.ensembl.org & 75                                 &                                   \\\\\n",
       "\t Ensembl 74                         & Dec 2013                           & http://dec2013.archive.ensembl.org & 74                                 &                                   \\\\\n",
       "\t Ensembl 67                         & May 2012                           & http://may2012.archive.ensembl.org & 67                                 &                                   \\\\\n",
       "\t Ensembl 54                         & May 2009                           & http://may2009.archive.ensembl.org & 54                                 &                                   \\\\\n",
       "\\end{tabular}\n"
      ],
      "text/markdown": [
       "\n",
       "name | date | url | version | current_release | \n",
       "|---|---|---|---|---|---|---|---|---|---|---|---|---|---|---|---|---|---|---|---|---|---|\n",
       "| Ensembl GRCh37                     | Feb 2014                           | http://grch37.ensembl.org          | GRCh37                             |                                    | \n",
       "| Ensembl 92                         | Apr 2018                           | http://apr2018.archive.ensembl.org | 92                                 | *                                  | \n",
       "| Ensembl 91                         | Dec 2017                           | http://dec2017.archive.ensembl.org | 91                                 |                                    | \n",
       "| Ensembl 90                         | Aug 2017                           | http://aug2017.archive.ensembl.org | 90                                 |                                    | \n",
       "| Ensembl 89                         | May 2017                           | http://may2017.archive.ensembl.org | 89                                 |                                    | \n",
       "| Ensembl 88                         | Mar 2017                           | http://mar2017.archive.ensembl.org | 88                                 |                                    | \n",
       "| Ensembl 87                         | Dec 2016                           | http://dec2016.archive.ensembl.org | 87                                 |                                    | \n",
       "| Ensembl 86                         | Oct 2016                           | http://oct2016.archive.ensembl.org | 86                                 |                                    | \n",
       "| Ensembl 85                         | Jul 2016                           | http://jul2016.archive.ensembl.org | 85                                 |                                    | \n",
       "| Ensembl 84                         | Mar 2016                           | http://mar2016.archive.ensembl.org | 84                                 |                                    | \n",
       "| Ensembl 83                         | Dec 2015                           | http://dec2015.archive.ensembl.org | 83                                 |                                    | \n",
       "| Ensembl 82                         | Sep 2015                           | http://sep2015.archive.ensembl.org | 82                                 |                                    | \n",
       "| Ensembl 81                         | Jul 2015                           | http://jul2015.archive.ensembl.org | 81                                 |                                    | \n",
       "| Ensembl 80                         | May 2015                           | http://may2015.archive.ensembl.org | 80                                 |                                    | \n",
       "| Ensembl 79                         | Mar 2015                           | http://mar2015.archive.ensembl.org | 79                                 |                                    | \n",
       "| Ensembl 78                         | Dec 2014                           | http://dec2014.archive.ensembl.org | 78                                 |                                    | \n",
       "| Ensembl 77                         | Oct 2014                           | http://oct2014.archive.ensembl.org | 77                                 |                                    | \n",
       "| Ensembl 76                         | Aug 2014                           | http://aug2014.archive.ensembl.org | 76                                 |                                    | \n",
       "| Ensembl 75                         | Feb 2014                           | http://feb2014.archive.ensembl.org | 75                                 |                                    | \n",
       "| Ensembl 74                         | Dec 2013                           | http://dec2013.archive.ensembl.org | 74                                 |                                    | \n",
       "| Ensembl 67                         | May 2012                           | http://may2012.archive.ensembl.org | 67                                 |                                    | \n",
       "| Ensembl 54                         | May 2009                           | http://may2009.archive.ensembl.org | 54                                 |                                    | \n",
       "\n",
       "\n"
      ],
      "text/plain": [
       "   name           date     url                                version\n",
       "1  Ensembl GRCh37 Feb 2014 http://grch37.ensembl.org          GRCh37 \n",
       "2  Ensembl 92     Apr 2018 http://apr2018.archive.ensembl.org 92     \n",
       "3  Ensembl 91     Dec 2017 http://dec2017.archive.ensembl.org 91     \n",
       "4  Ensembl 90     Aug 2017 http://aug2017.archive.ensembl.org 90     \n",
       "5  Ensembl 89     May 2017 http://may2017.archive.ensembl.org 89     \n",
       "6  Ensembl 88     Mar 2017 http://mar2017.archive.ensembl.org 88     \n",
       "7  Ensembl 87     Dec 2016 http://dec2016.archive.ensembl.org 87     \n",
       "8  Ensembl 86     Oct 2016 http://oct2016.archive.ensembl.org 86     \n",
       "9  Ensembl 85     Jul 2016 http://jul2016.archive.ensembl.org 85     \n",
       "10 Ensembl 84     Mar 2016 http://mar2016.archive.ensembl.org 84     \n",
       "11 Ensembl 83     Dec 2015 http://dec2015.archive.ensembl.org 83     \n",
       "12 Ensembl 82     Sep 2015 http://sep2015.archive.ensembl.org 82     \n",
       "13 Ensembl 81     Jul 2015 http://jul2015.archive.ensembl.org 81     \n",
       "14 Ensembl 80     May 2015 http://may2015.archive.ensembl.org 80     \n",
       "15 Ensembl 79     Mar 2015 http://mar2015.archive.ensembl.org 79     \n",
       "16 Ensembl 78     Dec 2014 http://dec2014.archive.ensembl.org 78     \n",
       "17 Ensembl 77     Oct 2014 http://oct2014.archive.ensembl.org 77     \n",
       "18 Ensembl 76     Aug 2014 http://aug2014.archive.ensembl.org 76     \n",
       "19 Ensembl 75     Feb 2014 http://feb2014.archive.ensembl.org 75     \n",
       "20 Ensembl 74     Dec 2013 http://dec2013.archive.ensembl.org 74     \n",
       "21 Ensembl 67     May 2012 http://may2012.archive.ensembl.org 67     \n",
       "22 Ensembl 54     May 2009 http://may2009.archive.ensembl.org 54     \n",
       "   current_release\n",
       "1                 \n",
       "2  *              \n",
       "3                 \n",
       "4                 \n",
       "5                 \n",
       "6                 \n",
       "7                 \n",
       "8                 \n",
       "9                 \n",
       "10                \n",
       "11                \n",
       "12                \n",
       "13                \n",
       "14                \n",
       "15                \n",
       "16                \n",
       "17                \n",
       "18                \n",
       "19                \n",
       "20                \n",
       "21                \n",
       "22                "
      ]
     },
     "metadata": {},
     "output_type": "display_data"
    }
   ],
   "source": [
    "suppressPackageStartupMessages(require(biomaRt))\n",
    "listEnsemblArchives()"
   ]
  },
  {
   "cell_type": "markdown",
   "metadata": {},
   "source": [
    "Release 74: http://dec2013.archive.ensembl.org\t\n",
    "\n",
    "Let us this version to rename our features, and see how many duplicate genes/transcripts we find, and whether this is better or worse than using the latest ensembl release.\n",
    "\n",
    "### Ensembl version duplicate gene test"
   ]
  },
  {
   "cell_type": "code",
   "execution_count": 26,
   "metadata": {
    "ExecuteTime": {
     "end_time": "2018-06-14T22:37:21.005847Z",
     "start_time": "2018-06-14T22:35:55.656Z"
    }
   },
   "outputs": [
    {
     "name": "stderr",
     "output_type": "stream",
     "text": [
      "140 duplicates\n"
     ]
    }
   ],
   "source": [
    "namers <- rownames(clean_matrix)\n",
    "\n",
    "mart <- useMart(biomart = \"ENSEMBL_MART_ENSEMBL\" , dataset = \"drerio_gene_ensembl\", host = 'http://dec2013.archive.ensembl.org')\n",
    "filt <- \"ensembl_gene_id\"\n",
    "k <- getBM(\n",
    "    filters = filt,\n",
    "    attributes = c(filt, \"external_gene_id\"),\n",
    "    values = namers,\n",
    "    mart = mart\n",
    ")\n",
    "\n",
    "map <- unique(k[,c(filt, \"external_gene_id\")])\n",
    "message(dim(map[duplicated(map$external_gene_id),])[1], \" duplicates\")"
   ]
  },
  {
   "cell_type": "code",
   "execution_count": 27,
   "metadata": {
    "ExecuteTime": {
     "end_time": "2018-06-14T22:37:45.641542Z",
     "start_time": "2018-06-14T22:35:57.503Z"
    }
   },
   "outputs": [
    {
     "name": "stderr",
     "output_type": "stream",
     "text": [
      "20 duplicates\n"
     ]
    }
   ],
   "source": [
    "namers <- rownames(clean_matrix)\n",
    "\n",
    "mart <- useMart(biomart = \"ENSEMBL_MART_ENSEMBL\" , dataset = \"drerio_gene_ensembl\")\n",
    "filt <- \"ensembl_gene_id\"\n",
    "k <- getBM(\n",
    "    filters = filt,\n",
    "    attributes = c(filt, \"external_gene_name\"),\n",
    "    values = namers,\n",
    "    mart = mart\n",
    ")\n",
    "\n",
    "map <- unique(k[,c(filt, \"external_gene_name\")])\n",
    "message(dim(map[duplicated(map$external_gene_name),])[1], \" duplicates\")"
   ]
  },
  {
   "cell_type": "markdown",
   "metadata": {},
   "source": [
    "So we would lose less if we use a newer reference to annotate our genes.\n",
    "\n",
    "### Perform the Annotation"
   ]
  },
  {
   "cell_type": "code",
   "execution_count": 30,
   "metadata": {
    "ExecuteTime": {
     "end_time": "2018-06-14T22:44:27.053336Z",
     "start_time": "2018-06-14T22:43:11.069Z"
    }
   },
   "outputs": [],
   "source": [
    "replaceRowNames <- function(namers, dataset = \"drerio_gene_ensembl\"){\n",
    "    mart <- useMart(biomart = \"ENSEMBL_MART_ENSEMBL\" , dataset = dataset)\n",
    "    #listDatasets(mart)\n",
    "    #listAttributes(mart)\n",
    "    filt <- NULL\n",
    "\n",
    "    if (dataset == \"drerio_gene_ensembl\"){\n",
    "        filt <- \"ensembl_gene_id\"\n",
    "    } else if (dataset == \"mmusculus_gene_ensembl\") {\n",
    "        filt <- \"mgi_symbol\"\n",
    "    } else {\n",
    "        message(\"ERROR: Dataset \", dataset, \"is NOT configured\")\n",
    "    }\n",
    "\n",
    "    k <- getBM(\n",
    "        filters = filt,\n",
    "        attributes = c(filt, \"external_gene_name\"),\n",
    "        values = namers,\n",
    "        mart = mart\n",
    "    )\n",
    "    \n",
    "    ens2ext_map <- unique(k[,c(filt, \"external_gene_name\")])\n",
    "    mer <- (merge(namers, ens2ext_map, all = T, by.x = 1, by.y = filt))\n",
    "\n",
    "    num_to_replace <- dim(mer[is.na(mer$external_gene_name),])[1]\n",
    "    message(num_to_replace, \" to be replaced\")\n",
    "\n",
    "    bad_names <- sapply(mer[is.na(mer$external_gene_name),]$x, toString)\n",
    "    mer[is.na(mer$external_gene_name),]$external_gene_name <- bad_names\n",
    "\n",
    "    num_were_replaced <- dim(mer[mer$x == mer$external_gene_name,])[1]\n",
    "    if (num_to_replace != num_were_replaced){\n",
    "        message(\"Not all replaced...!\")\n",
    "    }\n",
    "    \n",
    "    return(mer$external_gene_name)\n",
    "}"
   ]
  },
  {
   "cell_type": "code",
   "execution_count": 36,
   "metadata": {
    "ExecuteTime": {
     "end_time": "2018-06-14T22:52:33.749790Z",
     "start_time": "2018-06-14T22:50:10.481Z"
    }
   },
   "outputs": [
    {
     "name": "stderr",
     "output_type": "stream",
     "text": [
      "1852 to be replaced\n",
      "Current Names: 11257, Update Names: 11257 of which 20 are duplicates\n"
     ]
    }
   ],
   "source": [
    "current_names <- rownames(clean_matrix)\n",
    "updated_names <- replaceRowNames(current_names)\n",
    "\n",
    "message(\n",
    "    \"Current Names: \", length(current_names), \n",
    "    \", Update Names: \", length(updated_names), \n",
    "    \" of which \", length(updated_names) - length(unique(updated_names)), \" are duplicates\")"
   ]
  },
  {
   "cell_type": "markdown",
   "metadata": {},
   "source": [
    "1852 genes had no 'external gene name' so we will keep their original ensemble for these.\n",
    "The duplicates we will have to handle seperately.\n",
    "\n",
    "## Duplicates Genes\n",
    "\n",
    "What do we do with duplicates? If we remove the wrong one, we might lose a significant gene of interest.\n",
    "\n",
    "Maybe we can reduce some of these duplicates:\n",
    "  * If they are of poor quality\n",
    "  * If they share the same expression profile (e.g. same relative DE in the same cells) we can eliminate the one with the less transcripts.\n",
    "  * Choosing the transcript with the greatest DE (e.g. higher maximum expression, across more cells)\n",
    "  \n",
    "#### Methods\n"
   ]
  },
  {
   "cell_type": "code",
   "execution_count": 554,
   "metadata": {
    "ExecuteTime": {
     "end_time": "2018-06-15T14:35:33.010441Z",
     "start_time": "2018-06-15T14:34:16.067Z"
    },
    "scrolled": true
   },
   "outputs": [],
   "source": [
    "expressedInWhichCells <- function(row){\n",
    "    #names(row[row > 0])\n",
    "    nz_vals <- row[row > 0]\n",
    "    mm <- max(nz_vals)\n",
    "    mi <- nz_vals[nz_vals == mm]\n",
    "    return(\n",
    "        c(\n",
    "            NCells = length(nz_vals), \n",
    "            MaxVal = mm, \n",
    "            MaxValCells = paste(names(mi), collapse=\", \")\n",
    "        )\n",
    "    )\n",
    "}\n",
    "\n",
    "\n",
    "reportDuplicates <- function(current_new, mat){\n",
    "    df <- current_new\n",
    "\n",
    "    dupes <- df[df$new %in% df[duplicated(df$new),]$new,]\n",
    "    dupes <- cbind(dupes, rowSums(mat[dupes$current,]))\n",
    "\n",
    "    colnames(dupes) <- c(\"current\",\"new\",\"rowSums\")\n",
    "    #dupes[order(dupes$new),]\n",
    "\n",
    "    res <- apply(mat[dupes$current,], 1, expressedInWhichCells)\n",
    "    dupes <- cbind(dupes, t(res))\n",
    "    return(dupes[order(dupes$new),])\n",
    "}\n",
    "\n",
    "\n",
    "chooseMostInformativeTranscript <- function(test_gene){\n",
    "    toconsider <- dupes[dupes$new == test_gene,]\n",
    "\n",
    "    # Determine commonCell\n",
    "    cnames <- toconsider$MaxValCells\n",
    "    unique_names <- as.character((unlist(sapply(as.character(cnames),FUN=function(x){strsplit(x,\"\\\\s*,\\\\s*\")}))))\n",
    "    freq <- table(unique_names)\n",
    "    common_cell <- names(freq[freq == length(cnames)])\n",
    "\n",
    "    has_commoncell <- length(common_cell) > 0\n",
    "\n",
    "    # Generate a score based on rowSums, and NumCells\n",
    "    #toconsider\n",
    "    lowestRowSum <- min(toconsider$rowSums)\n",
    "    lowestNCells <- min(toconsider$NCells)\n",
    "    lowestMaxValue <- min(toconsider$MaxVal)\n",
    "    x <- toconsider[1,]\n",
    "\n",
    "    scoreForTranscript <- function(row){\n",
    "        rowS <- as.numeric(row[3])\n",
    "        ncel <- as.numeric(row[4])\n",
    "        maxv <- as.numeric(row[5])\n",
    "        maxc <- length(unlist(strsplit(row[6],\"\\\\s*,\\\\s*\")))\n",
    "\n",
    "        score <- (rowS / lowestRowSum) + (ncel / lowestNCells) + (maxv/lowestMaxValue) + log10(maxc)\n",
    "        return(score)\n",
    "    }\n",
    "\n",
    "    scores <- apply(toconsider, 1, scoreForTranscript)\n",
    "    tmp <- cbind(toconsider, scores) #[scores == max(scores)]\n",
    "    \n",
    "    #accept <- tmp[tmp$scores == max(tmp$scores),]$current\n",
    "    #reject <- tmp[tmp$scores != max(tmp$scores),]$current\n",
    "    tmp$accept <- F\n",
    "    tmp[tmp$scores == max(tmp$scores),]$accept <- T\n",
    "    #tmp[tmp$scores != max(tmp$scores),]$accept <- F\n",
    "\n",
    "    return(tmp)\n",
    "    #message(\"Accept:\", accept, \", Reject:\", reject) \n",
    "}"
   ]
  },
  {
   "cell_type": "markdown",
   "metadata": {},
   "source": [
    "### Pruning duplicates\n",
    "\n",
    "Here we can see the duplicate features, their total transcripts (rowSums), the number of cells they are expressed in, the maximum expression value for that transcript, and which cell(s) expressed the maximum.\n",
    "\n",
    "Adjacent rows can tell us if any duplicates share the same cells expressing maximum values, which we can then eliminate.\n",
    "\n",
    "We can also create a scoring system that takes into account these factors and chooses the most informative transcript, the results of which are shown below:"
   ]
  },
  {
   "cell_type": "code",
   "execution_count": 556,
   "metadata": {
    "ExecuteTime": {
     "end_time": "2018-06-15T14:36:26.042111Z",
     "start_time": "2018-06-15T14:35:08.605Z"
    },
    "scrolled": true
   },
   "outputs": [
    {
     "data": {
      "text/html": [
       "<table>\n",
       "<thead><tr><th></th><th scope=col>current</th><th scope=col>new</th><th scope=col>rowSums</th><th scope=col>NCells</th><th scope=col>MaxVal</th><th scope=col>MaxValCells</th><th scope=col>scores</th><th scope=col>accept</th></tr></thead>\n",
       "<tbody>\n",
       "\t<tr><th scope=row>7153</th><td>ENSDARG00000061736                                   </td><td>ank3b                                                </td><td> 358.13535                                           </td><td>183                                                  </td><td>  9.009902                                           </td><td>P1_B2_X99, P1_B2_X180                                </td><td> 4.530178                                            </td><td> TRUE                                                </td></tr>\n",
       "\t<tr><th scope=row>9210</th><td>ENSDARG00000077582                                   </td><td>ank3b                                                </td><td> 246.08795                                           </td><td>123                                                  </td><td>  7.005988                                           </td><td>P1_B1_X4                                             </td><td> 3.000000                                            </td><td>FALSE                                                </td></tr>\n",
       "\t<tr><th scope=row>188</th><td>ENSDARG00000002790                                   </td><td>ap2m1b                                               </td><td> 515.23692                                           </td><td>228                                                  </td><td> 13.020674                                           </td><td>P2_B5_X13                                            </td><td> 8.335591                                            </td><td> TRUE                                                </td></tr>\n",
       "\t<tr><th scope=row>3682</th><td>ENSDARG00000033899                                   </td><td>ap2m1b                                               </td><td> 119.02968                                           </td><td> 89                                                  </td><td>  9.009902                                           </td><td>P1_B4_X124                                           </td><td> 3.000000                                            </td><td>FALSE                                                </td></tr>\n",
       "\t<tr><th scope=row>490</th><td>ENSDARG00000005122                                   </td><td>atp2a2a                                              </td><td> 133.03579                                           </td><td> 88                                                  </td><td>  6.004399                                           </td><td>P2_B7_X63                                            </td><td> 9.954502                                            </td><td> TRUE                                                </td></tr>\n",
       "\t<tr><th scope=row>3263</th><td>ENSDARG00000029439                                   </td><td>atp2a2a                                              </td><td>  30.00513                                           </td><td> 25                                                  </td><td>  3.001099                                           </td><td>P1_B1_X87                                            </td><td> 3.000000                                            </td><td>FALSE                                                </td></tr>\n",
       "\t<tr><th scope=row>5272</th><td>ENSDARG00000044902                                   </td><td>atp2b2                                               </td><td> 764.45587                                           </td><td>281                                                  </td><td> 15.027533                                           </td><td>P2_B8_X97                                            </td><td> 7.626046                                            </td><td> TRUE                                                </td></tr>\n",
       "\t<tr><th scope=row>7532</th><td>ENSDARG00000063433                                   </td><td>atp2b2                                               </td><td> 237.06681                                           </td><td>148                                                  </td><td>  6.004399                                           </td><td>P2_B5_X14, P2_B8_X97                                 </td><td> 3.301030                                            </td><td>FALSE                                                </td></tr>\n",
       "\t<tr><th scope=row>496</th><td>ENSDARG00000005159                                   </td><td>cyth1a                                               </td><td> 190.05496                                           </td><td>121                                                  </td><td>  7.005988                                           </td><td>P2_B5_X72                                            </td><td> 5.823024                                            </td><td> TRUE                                                </td></tr>\n",
       "\t<tr><th scope=row>9002</th><td>ENSDARG00000076742                                   </td><td>cyth1a                                               </td><td>  84.02198                                           </td><td> 56                                                  </td><td>  5.003054                                           </td><td>P2_B5_X45                                            </td><td> 3.000000                                            </td><td>FALSE                                                </td></tr>\n",
       "\t<tr><th scope=row>738</th><td>ENSDARG00000007136                                   </td><td>gtf2h4                                               </td><td> 124.02760                                           </td><td> 91                                                  </td><td>  5.003054                                           </td><td>P1_B2_X108, P2_B6_X189                               </td><td> 9.051332                                            </td><td> TRUE                                                </td></tr>\n",
       "\t<tr><th scope=row>3968</th><td>ENSDARG00000036071                                   </td><td>gtf2h4                                               </td><td>  31.00574                                           </td><td> 26                                                  </td><td>  4.001954                                           </td><td>P2_B7_X63                                            </td><td> 3.000000                                            </td><td>FALSE                                                </td></tr>\n",
       "\t<tr><th scope=row>2459</th><td>ENSDARG00000020504                                   </td><td>h3f3b.1                                              </td><td>1185.26218                                           </td><td>361                                                  </td><td> 57.400325                                           </td><td>P1_B3_X30                                            </td><td> 5.247119                                            </td><td> TRUE                                                </td></tr>\n",
       "\t<tr><th scope=row>7717</th><td>ENSDARG00000068434                                   </td><td>h3f3b.1                                              </td><td>1112.68788                                           </td><td>365                                                  </td><td> 21.054018                                           </td><td>P1_B3_X30                                            </td><td> 3.178176                                            </td><td>FALSE                                                </td></tr>\n",
       "\t<tr><th scope=row>7718</th><td>ENSDARG00000068436                                   </td><td>h3f3b.1                                              </td><td>1297.91494                                           </td><td>386                                                  </td><td> 18.039667                                           </td><td>P1_B3_X30                                            </td><td> 3.235720                                            </td><td>FALSE                                                </td></tr>\n",
       "\t<tr><th scope=row>3986</th><td>ENSDARG00000036161                                   </td><td>hnrnpa0l                                             </td><td>1098.11193                                           </td><td>343                                                  </td><td> 34.141899                                           </td><td>P1_B3_X30                                            </td><td>41.064936                                            </td><td> TRUE                                                </td></tr>\n",
       "\t<tr><th scope=row>8914</th><td>ENSDARG00000076380                                   </td><td>hnrnpa0l                                             </td><td>  52.01001                                           </td><td> 40                                                  </td><td>  3.001099                                           </td><td>P1_B2_X108, P1_B4_X113, P2_B6_X128                   </td><td> 3.477121                                            </td><td>FALSE                                                </td></tr>\n",
       "\t<tr><th scope=row>420</th><td>ENSDARG00000004587                                   </td><td>kat5b                                                </td><td>  49.00965                                           </td><td> 37                                                  </td><td>  3.001099                                           </td><td>P1_B2_X135, P2_B7_X49, P2_B7_X63                     </td><td> 3.477121                                            </td><td>FALSE                                                </td></tr>\n",
       "\t<tr><th scope=row>5454</th><td>ENSDARG00000045951                                   </td><td>kat5b                                                </td><td>  53.01062                                           </td><td> 41                                                  </td><td>  4.001954                                           </td><td>P2_B6_X128                                           </td><td> 3.523241                                            </td><td> TRUE                                                </td></tr>\n",
       "\t<tr><th scope=row>18</th><td>ENSDARG00000000394                                   </td><td>matr3l1.1                                            </td><td> 178.04103                                           </td><td>124                                                  </td><td>  6.004399                                           </td><td>P1_B3_X30                                            </td><td> 3.000000                                            </td><td>FALSE                                                </td></tr>\n",
       "\t<tr><th scope=row>46</th><td>ENSDARG00000001162                                   </td><td>matr3l1.1                                            </td><td> 219.06510                                           </td><td>128                                                  </td><td>  6.004399                                           </td><td>P1_B1_X82, P2_B7_X63                                 </td><td> 3.563707                                            </td><td> TRUE                                                </td></tr>\n",
       "\t<tr><th scope=row>2345</th><td>ENSDARG00000019658                                   </td><td>pou2f2a                                              </td><td> 195.07244                                           </td><td>100                                                  </td><td>  8.007823                                           </td><td>P1_B2_X108                                           </td><td> 3.000000                                            </td><td>FALSE                                                </td></tr>\n",
       "\t<tr><th scope=row>4086</th><td>ENSDARG00000036816                                   </td><td>pou2f2a                                              </td><td>1112.79507                                           </td><td>209                                                  </td><td> 38.177367                                           </td><td>P2_B8_X105                                           </td><td>12.562031                                            </td><td> TRUE                                                </td></tr>\n",
       "\t<tr><th scope=row>3723</th><td>ENSDARG00000034291                                   </td><td>rpl37                                                </td><td> 576.56695                                           </td><td>228                                                  </td><td> 30.110403                                           </td><td>P1_B3_X30                                            </td><td>39.031480                                            </td><td> TRUE                                                </td></tr>\n",
       "\t<tr><th scope=row>8910</th><td>ENSDARG00000076360                                   </td><td>rpl37                                                </td><td>  29.00476                                           </td><td> 25                                                  </td><td>  3.001099                                           </td><td>P1_B3_X30                                            </td><td> 3.000000                                            </td><td>FALSE                                                </td></tr>\n",
       "\t<tr><th scope=row>7749</th><td>ENSDARG00000068640                                   </td><td>rsf1b.1                                              </td><td> 134.03469                                           </td><td> 88                                                  </td><td>  6.004399                                           </td><td>P2_B7_X63                                            </td><td> 3.200147                                            </td><td>FALSE                                                </td></tr>\n",
       "\t<tr><th scope=row>10915</th><td>ENSDARG00000093503                                   </td><td>rsf1b.1                                              </td><td> 196.05129                                           </td><td>121                                                  </td><td>  5.003054                                           </td><td>P2_B6_X128                                           </td><td> 3.837691                                            </td><td> TRUE                                                </td></tr>\n",
       "\t<tr><th scope=row>3533</th><td>ENSDARG00000032126                                   </td><td>scg5                                                 </td><td>  39.00696                                           </td><td> 31                                                  </td><td>  3.001099                                           </td><td>P2_B7_X18                                            </td><td> 3.000000                                            </td><td>FALSE                                                </td></tr>\n",
       "\t<tr><th scope=row>9079</th><td>ENSDARG00000077045                                   </td><td>scg5                                                 </td><td> 231.06534                                           </td><td>142                                                  </td><td>  5.003054                                           </td><td>P1_B1_X96, P1_B2_X180, P1_B3_X7, P1_B3_X54, P2_B5_X75</td><td>12.870384                                            </td><td> TRUE                                                </td></tr>\n",
       "\t<tr><th scope=row>8413</th><td>ENSDARG00000074298                                   </td><td>si:ch73-266f23.1                                     </td><td> 192.08093                                           </td><td>119                                                  </td><td> 17.035376                                           </td><td>P2_B7_X63                                            </td><td> 5.853639                                            </td><td> TRUE                                                </td></tr>\n",
       "\t<tr><th scope=row>11080</th><td>ENSDARG00000095135                                   </td><td>si:ch73-266f23.1                                     </td><td>  86.02590                                           </td><td> 62                                                  </td><td> 10.012227                                           </td><td>P2_B6_X167                                           </td><td> 3.000000                                            </td><td>FALSE                                                </td></tr>\n",
       "\t<tr><th scope=row>8267</th><td>ENSDARG00000071714                                   </td><td>si:dkey-20i20.8                                      </td><td>  29.00452                                           </td><td> 26                                                  </td><td>  3.001099                                           </td><td>P2_B8_X112                                           </td><td> 5.571646                                            </td><td> TRUE                                                </td></tr>\n",
       "\t<tr><th scope=row>11007</th><td>ENSDARG00000094343                                   </td><td>si:dkey-20i20.8                                      </td><td>  14.00195                                           </td><td> 13                                                  </td><td>  2.000488                                           </td><td>P1_B2_X114                                           </td><td> 3.000000                                            </td><td>FALSE                                                </td></tr>\n",
       "\t<tr><th scope=row>9341</th><td>ENSDARG00000078118                                   </td><td>sinhcafl                                             </td><td>  55.01502                                           </td><td> 36                                                  </td><td>  5.003054                                           </td><td>P2_B7_X63                                            </td><td> 3.000000                                            </td><td>FALSE                                                </td></tr>\n",
       "\t<tr><th scope=row>11068</th><td>ENSDARG00000095007                                   </td><td>sinhcafl                                             </td><td>  81.01868                                           </td><td> 57                                                  </td><td>  5.003054                                           </td><td>P2_B5_X27                                            </td><td> 4.055998                                            </td><td> TRUE                                                </td></tr>\n",
       "\t<tr><th scope=row>7510</th><td>ENSDARG00000063311                                   </td><td>soga3a                                               </td><td>  19.00281                                           </td><td> 17                                                  </td><td>  2.000488                                           </td><td>P1_B2_X99, P2_B6_X161                                </td><td> 3.301030                                            </td><td>FALSE                                                </td></tr>\n",
       "\t<tr><th scope=row>10241</th><td>ENSDARG00000088571                                   </td><td>soga3a                                               </td><td> 174.04226                                           </td><td>118                                                  </td><td>  6.004399                                           </td><td>P2_B6_X116                                           </td><td>19.101408                                            </td><td> TRUE                                                </td></tr>\n",
       "\t<tr><th scope=row>5342</th><td>ENSDARG00000045367                                   </td><td>tuba1c                                               </td><td> 402.17103                                           </td><td>186                                                  </td><td> 10.012227                                           </td><td>P1_B2_X108                                           </td><td> 3.000000                                            </td><td>FALSE                                                </td></tr>\n",
       "\t<tr><th scope=row>5995</th><td>ENSDARG00000055216                                   </td><td>tuba1c                                               </td><td>6582.24665                                           </td><td>480                                                  </td><td>114.587990                                           </td><td>P1_B4_X124                                           </td><td>30.392236                                            </td><td> TRUE                                                </td></tr>\n",
       "</tbody>\n",
       "</table>\n"
      ],
      "text/latex": [
       "\\begin{tabular}{r|llllllll}\n",
       "  & current & new & rowSums & NCells & MaxVal & MaxValCells & scores & accept\\\\\n",
       "\\hline\n",
       "\t7153 & ENSDARG00000061736                                            & ank3b                                                         &  358.13535                                                    & 183                                                           &   9.009902                                                    & P1\\_B2\\_X99, P1\\_B2\\_X180                                 &  4.530178                                                     &  TRUE                                                        \\\\\n",
       "\t9210 & ENSDARG00000077582                                        & ank3b                                                     &  246.08795                                                & 123                                                       &   7.005988                                                & P1\\_B1\\_X4                                              &  3.000000                                                 & FALSE                                                    \\\\\n",
       "\t188 & ENSDARG00000002790                                        & ap2m1b                                                    &  515.23692                                                & 228                                                       &  13.020674                                                & P2\\_B5\\_X13                                             &  8.335591                                                 &  TRUE                                                    \\\\\n",
       "\t3682 & ENSDARG00000033899                                        & ap2m1b                                                    &  119.02968                                                &  89                                                       &   9.009902                                                & P1\\_B4\\_X124                                            &  3.000000                                                 & FALSE                                                    \\\\\n",
       "\t490 & ENSDARG00000005122                                        & atp2a2a                                                   &  133.03579                                                &  88                                                       &   6.004399                                                & P2\\_B7\\_X63                                             &  9.954502                                                 &  TRUE                                                    \\\\\n",
       "\t3263 & ENSDARG00000029439                                        & atp2a2a                                                   &   30.00513                                                &  25                                                       &   3.001099                                                & P1\\_B1\\_X87                                             &  3.000000                                                 & FALSE                                                    \\\\\n",
       "\t5272 & ENSDARG00000044902                                        & atp2b2                                                    &  764.45587                                                & 281                                                       &  15.027533                                                & P2\\_B8\\_X97                                             &  7.626046                                                 &  TRUE                                                    \\\\\n",
       "\t7532 & ENSDARG00000063433                                            & atp2b2                                                        &  237.06681                                                    & 148                                                           &   6.004399                                                    & P2\\_B5\\_X14, P2\\_B8\\_X97                                  &  3.301030                                                     & FALSE                                                        \\\\\n",
       "\t496 & ENSDARG00000005159                                        & cyth1a                                                    &  190.05496                                                & 121                                                       &   7.005988                                                & P2\\_B5\\_X72                                             &  5.823024                                                 &  TRUE                                                    \\\\\n",
       "\t9002 & ENSDARG00000076742                                        & cyth1a                                                    &   84.02198                                                &  56                                                       &   5.003054                                                & P2\\_B5\\_X45                                             &  3.000000                                                 & FALSE                                                    \\\\\n",
       "\t738 & ENSDARG00000007136                                            & gtf2h4                                                        &  124.02760                                                    &  91                                                           &   5.003054                                                    & P1\\_B2\\_X108, P2\\_B6\\_X189                                &  9.051332                                                     &  TRUE                                                        \\\\\n",
       "\t3968 & ENSDARG00000036071                                        & gtf2h4                                                    &   31.00574                                                &  26                                                       &   4.001954                                                & P2\\_B7\\_X63                                             &  3.000000                                                 & FALSE                                                    \\\\\n",
       "\t2459 & ENSDARG00000020504                                        & h3f3b.1                                                   & 1185.26218                                                & 361                                                       &  57.400325                                                & P1\\_B3\\_X30                                             &  5.247119                                                 &  TRUE                                                    \\\\\n",
       "\t7717 & ENSDARG00000068434                                        & h3f3b.1                                                   & 1112.68788                                                & 365                                                       &  21.054018                                                & P1\\_B3\\_X30                                             &  3.178176                                                 & FALSE                                                    \\\\\n",
       "\t7718 & ENSDARG00000068436                                        & h3f3b.1                                                   & 1297.91494                                                & 386                                                       &  18.039667                                                & P1\\_B3\\_X30                                             &  3.235720                                                 & FALSE                                                    \\\\\n",
       "\t3986 & ENSDARG00000036161                                        & hnrnpa0l                                                  & 1098.11193                                                & 343                                                       &  34.141899                                                & P1\\_B3\\_X30                                             & 41.064936                                                 &  TRUE                                                    \\\\\n",
       "\t8914 & ENSDARG00000076380                                                & hnrnpa0l                                                          &   52.01001                                                        &  40                                                               &   3.001099                                                        & P1\\_B2\\_X108, P1\\_B4\\_X113, P2\\_B6\\_X128                    &  3.477121                                                         & FALSE                                                            \\\\\n",
       "\t420 & ENSDARG00000004587                                                & kat5b                                                             &   49.00965                                                        &  37                                                               &   3.001099                                                        & P1\\_B2\\_X135, P2\\_B7\\_X49, P2\\_B7\\_X63                      &  3.477121                                                         & FALSE                                                            \\\\\n",
       "\t5454 & ENSDARG00000045951                                        & kat5b                                                     &   53.01062                                                &  41                                                       &   4.001954                                                & P2\\_B6\\_X128                                            &  3.523241                                                 &  TRUE                                                    \\\\\n",
       "\t18 & ENSDARG00000000394                                        & matr3l1.1                                                 &  178.04103                                                & 124                                                       &   6.004399                                                & P1\\_B3\\_X30                                             &  3.000000                                                 & FALSE                                                    \\\\\n",
       "\t46 & ENSDARG00000001162                                            & matr3l1.1                                                     &  219.06510                                                    & 128                                                           &   6.004399                                                    & P1\\_B1\\_X82, P2\\_B7\\_X63                                  &  3.563707                                                     &  TRUE                                                        \\\\\n",
       "\t2345 & ENSDARG00000019658                                        & pou2f2a                                                   &  195.07244                                                & 100                                                       &   8.007823                                                & P1\\_B2\\_X108                                            &  3.000000                                                 & FALSE                                                    \\\\\n",
       "\t4086 & ENSDARG00000036816                                        & pou2f2a                                                   & 1112.79507                                                & 209                                                       &  38.177367                                                & P2\\_B8\\_X105                                            & 12.562031                                                 &  TRUE                                                    \\\\\n",
       "\t3723 & ENSDARG00000034291                                        & rpl37                                                     &  576.56695                                                & 228                                                       &  30.110403                                                & P1\\_B3\\_X30                                             & 39.031480                                                 &  TRUE                                                    \\\\\n",
       "\t8910 & ENSDARG00000076360                                        & rpl37                                                     &   29.00476                                                &  25                                                       &   3.001099                                                & P1\\_B3\\_X30                                             &  3.000000                                                 & FALSE                                                    \\\\\n",
       "\t7749 & ENSDARG00000068640                                        & rsf1b.1                                                   &  134.03469                                                &  88                                                       &   6.004399                                                & P2\\_B7\\_X63                                             &  3.200147                                                 & FALSE                                                    \\\\\n",
       "\t10915 & ENSDARG00000093503                                        & rsf1b.1                                                   &  196.05129                                                & 121                                                       &   5.003054                                                & P2\\_B6\\_X128                                            &  3.837691                                                 &  TRUE                                                    \\\\\n",
       "\t3533 & ENSDARG00000032126                                        & scg5                                                      &   39.00696                                                &  31                                                       &   3.001099                                                & P2\\_B7\\_X18                                             &  3.000000                                                 & FALSE                                                    \\\\\n",
       "\t9079 & ENSDARG00000077045                                                        & scg5                                                                      &  231.06534                                                                & 142                                                                       &   5.003054                                                                & P1\\_B1\\_X96, P1\\_B2\\_X180, P1\\_B3\\_X7, P1\\_B3\\_X54, P2\\_B5\\_X75 & 12.870384                                                                 &  TRUE                                                                    \\\\\n",
       "\t8413 & ENSDARG00000074298                                        & si:ch73-266f23.1                                          &  192.08093                                                & 119                                                       &  17.035376                                                & P2\\_B7\\_X63                                             &  5.853639                                                 &  TRUE                                                    \\\\\n",
       "\t11080 & ENSDARG00000095135                                        & si:ch73-266f23.1                                          &   86.02590                                                &  62                                                       &  10.012227                                                & P2\\_B6\\_X167                                            &  3.000000                                                 & FALSE                                                    \\\\\n",
       "\t8267 & ENSDARG00000071714                                        & si:dkey-20i20.8                                           &   29.00452                                                &  26                                                       &   3.001099                                                & P2\\_B8\\_X112                                            &  5.571646                                                 &  TRUE                                                    \\\\\n",
       "\t11007 & ENSDARG00000094343                                        & si:dkey-20i20.8                                           &   14.00195                                                &  13                                                       &   2.000488                                                & P1\\_B2\\_X114                                            &  3.000000                                                 & FALSE                                                    \\\\\n",
       "\t9341 & ENSDARG00000078118                                        & sinhcafl                                                  &   55.01502                                                &  36                                                       &   5.003054                                                & P2\\_B7\\_X63                                             &  3.000000                                                 & FALSE                                                    \\\\\n",
       "\t11068 & ENSDARG00000095007                                        & sinhcafl                                                  &   81.01868                                                &  57                                                       &   5.003054                                                & P2\\_B5\\_X27                                             &  4.055998                                                 &  TRUE                                                    \\\\\n",
       "\t7510 & ENSDARG00000063311                                            & soga3a                                                        &   19.00281                                                    &  17                                                           &   2.000488                                                    & P1\\_B2\\_X99, P2\\_B6\\_X161                                 &  3.301030                                                     & FALSE                                                        \\\\\n",
       "\t10241 & ENSDARG00000088571                                        & soga3a                                                    &  174.04226                                                & 118                                                       &   6.004399                                                & P2\\_B6\\_X116                                            & 19.101408                                                 &  TRUE                                                    \\\\\n",
       "\t5342 & ENSDARG00000045367                                        & tuba1c                                                    &  402.17103                                                & 186                                                       &  10.012227                                                & P1\\_B2\\_X108                                            &  3.000000                                                 & FALSE                                                    \\\\\n",
       "\t5995 & ENSDARG00000055216                                        & tuba1c                                                    & 6582.24665                                                & 480                                                       & 114.587990                                                & P1\\_B4\\_X124                                            & 30.392236                                                 &  TRUE                                                    \\\\\n",
       "\\end{tabular}\n"
      ],
      "text/markdown": [
       "\n",
       "| <!--/--> | current | new | rowSums | NCells | MaxVal | MaxValCells | scores | accept | \n",
       "|---|---|---|---|---|---|---|---|---|---|---|---|---|---|---|---|---|---|---|---|---|---|---|---|---|---|---|---|---|---|---|---|---|---|---|---|---|---|---|\n",
       "| 7153 | ENSDARG00000061736                                    | ank3b                                                 |  358.13535                                            | 183                                                   |   9.009902                                            | P1_B2_X99, P1_B2_X180                                 |  4.530178                                             |  TRUE                                                 | \n",
       "| 9210 | ENSDARG00000077582                                    | ank3b                                                 |  246.08795                                            | 123                                                   |   7.005988                                            | P1_B1_X4                                              |  3.000000                                             | FALSE                                                 | \n",
       "| 188 | ENSDARG00000002790                                    | ap2m1b                                                |  515.23692                                            | 228                                                   |  13.020674                                            | P2_B5_X13                                             |  8.335591                                             |  TRUE                                                 | \n",
       "| 3682 | ENSDARG00000033899                                    | ap2m1b                                                |  119.02968                                            |  89                                                   |   9.009902                                            | P1_B4_X124                                            |  3.000000                                             | FALSE                                                 | \n",
       "| 490 | ENSDARG00000005122                                    | atp2a2a                                               |  133.03579                                            |  88                                                   |   6.004399                                            | P2_B7_X63                                             |  9.954502                                             |  TRUE                                                 | \n",
       "| 3263 | ENSDARG00000029439                                    | atp2a2a                                               |   30.00513                                            |  25                                                   |   3.001099                                            | P1_B1_X87                                             |  3.000000                                             | FALSE                                                 | \n",
       "| 5272 | ENSDARG00000044902                                    | atp2b2                                                |  764.45587                                            | 281                                                   |  15.027533                                            | P2_B8_X97                                             |  7.626046                                             |  TRUE                                                 | \n",
       "| 7532 | ENSDARG00000063433                                    | atp2b2                                                |  237.06681                                            | 148                                                   |   6.004399                                            | P2_B5_X14, P2_B8_X97                                  |  3.301030                                             | FALSE                                                 | \n",
       "| 496 | ENSDARG00000005159                                    | cyth1a                                                |  190.05496                                            | 121                                                   |   7.005988                                            | P2_B5_X72                                             |  5.823024                                             |  TRUE                                                 | \n",
       "| 9002 | ENSDARG00000076742                                    | cyth1a                                                |   84.02198                                            |  56                                                   |   5.003054                                            | P2_B5_X45                                             |  3.000000                                             | FALSE                                                 | \n",
       "| 738 | ENSDARG00000007136                                    | gtf2h4                                                |  124.02760                                            |  91                                                   |   5.003054                                            | P1_B2_X108, P2_B6_X189                                |  9.051332                                             |  TRUE                                                 | \n",
       "| 3968 | ENSDARG00000036071                                    | gtf2h4                                                |   31.00574                                            |  26                                                   |   4.001954                                            | P2_B7_X63                                             |  3.000000                                             | FALSE                                                 | \n",
       "| 2459 | ENSDARG00000020504                                    | h3f3b.1                                               | 1185.26218                                            | 361                                                   |  57.400325                                            | P1_B3_X30                                             |  5.247119                                             |  TRUE                                                 | \n",
       "| 7717 | ENSDARG00000068434                                    | h3f3b.1                                               | 1112.68788                                            | 365                                                   |  21.054018                                            | P1_B3_X30                                             |  3.178176                                             | FALSE                                                 | \n",
       "| 7718 | ENSDARG00000068436                                    | h3f3b.1                                               | 1297.91494                                            | 386                                                   |  18.039667                                            | P1_B3_X30                                             |  3.235720                                             | FALSE                                                 | \n",
       "| 3986 | ENSDARG00000036161                                    | hnrnpa0l                                              | 1098.11193                                            | 343                                                   |  34.141899                                            | P1_B3_X30                                             | 41.064936                                             |  TRUE                                                 | \n",
       "| 8914 | ENSDARG00000076380                                    | hnrnpa0l                                              |   52.01001                                            |  40                                                   |   3.001099                                            | P1_B2_X108, P1_B4_X113, P2_B6_X128                    |  3.477121                                             | FALSE                                                 | \n",
       "| 420 | ENSDARG00000004587                                    | kat5b                                                 |   49.00965                                            |  37                                                   |   3.001099                                            | P1_B2_X135, P2_B7_X49, P2_B7_X63                      |  3.477121                                             | FALSE                                                 | \n",
       "| 5454 | ENSDARG00000045951                                    | kat5b                                                 |   53.01062                                            |  41                                                   |   4.001954                                            | P2_B6_X128                                            |  3.523241                                             |  TRUE                                                 | \n",
       "| 18 | ENSDARG00000000394                                    | matr3l1.1                                             |  178.04103                                            | 124                                                   |   6.004399                                            | P1_B3_X30                                             |  3.000000                                             | FALSE                                                 | \n",
       "| 46 | ENSDARG00000001162                                    | matr3l1.1                                             |  219.06510                                            | 128                                                   |   6.004399                                            | P1_B1_X82, P2_B7_X63                                  |  3.563707                                             |  TRUE                                                 | \n",
       "| 2345 | ENSDARG00000019658                                    | pou2f2a                                               |  195.07244                                            | 100                                                   |   8.007823                                            | P1_B2_X108                                            |  3.000000                                             | FALSE                                                 | \n",
       "| 4086 | ENSDARG00000036816                                    | pou2f2a                                               | 1112.79507                                            | 209                                                   |  38.177367                                            | P2_B8_X105                                            | 12.562031                                             |  TRUE                                                 | \n",
       "| 3723 | ENSDARG00000034291                                    | rpl37                                                 |  576.56695                                            | 228                                                   |  30.110403                                            | P1_B3_X30                                             | 39.031480                                             |  TRUE                                                 | \n",
       "| 8910 | ENSDARG00000076360                                    | rpl37                                                 |   29.00476                                            |  25                                                   |   3.001099                                            | P1_B3_X30                                             |  3.000000                                             | FALSE                                                 | \n",
       "| 7749 | ENSDARG00000068640                                    | rsf1b.1                                               |  134.03469                                            |  88                                                   |   6.004399                                            | P2_B7_X63                                             |  3.200147                                             | FALSE                                                 | \n",
       "| 10915 | ENSDARG00000093503                                    | rsf1b.1                                               |  196.05129                                            | 121                                                   |   5.003054                                            | P2_B6_X128                                            |  3.837691                                             |  TRUE                                                 | \n",
       "| 3533 | ENSDARG00000032126                                    | scg5                                                  |   39.00696                                            |  31                                                   |   3.001099                                            | P2_B7_X18                                             |  3.000000                                             | FALSE                                                 | \n",
       "| 9079 | ENSDARG00000077045                                    | scg5                                                  |  231.06534                                            | 142                                                   |   5.003054                                            | P1_B1_X96, P1_B2_X180, P1_B3_X7, P1_B3_X54, P2_B5_X75 | 12.870384                                             |  TRUE                                                 | \n",
       "| 8413 | ENSDARG00000074298                                    | si:ch73-266f23.1                                      |  192.08093                                            | 119                                                   |  17.035376                                            | P2_B7_X63                                             |  5.853639                                             |  TRUE                                                 | \n",
       "| 11080 | ENSDARG00000095135                                    | si:ch73-266f23.1                                      |   86.02590                                            |  62                                                   |  10.012227                                            | P2_B6_X167                                            |  3.000000                                             | FALSE                                                 | \n",
       "| 8267 | ENSDARG00000071714                                    | si:dkey-20i20.8                                       |   29.00452                                            |  26                                                   |   3.001099                                            | P2_B8_X112                                            |  5.571646                                             |  TRUE                                                 | \n",
       "| 11007 | ENSDARG00000094343                                    | si:dkey-20i20.8                                       |   14.00195                                            |  13                                                   |   2.000488                                            | P1_B2_X114                                            |  3.000000                                             | FALSE                                                 | \n",
       "| 9341 | ENSDARG00000078118                                    | sinhcafl                                              |   55.01502                                            |  36                                                   |   5.003054                                            | P2_B7_X63                                             |  3.000000                                             | FALSE                                                 | \n",
       "| 11068 | ENSDARG00000095007                                    | sinhcafl                                              |   81.01868                                            |  57                                                   |   5.003054                                            | P2_B5_X27                                             |  4.055998                                             |  TRUE                                                 | \n",
       "| 7510 | ENSDARG00000063311                                    | soga3a                                                |   19.00281                                            |  17                                                   |   2.000488                                            | P1_B2_X99, P2_B6_X161                                 |  3.301030                                             | FALSE                                                 | \n",
       "| 10241 | ENSDARG00000088571                                    | soga3a                                                |  174.04226                                            | 118                                                   |   6.004399                                            | P2_B6_X116                                            | 19.101408                                             |  TRUE                                                 | \n",
       "| 5342 | ENSDARG00000045367                                    | tuba1c                                                |  402.17103                                            | 186                                                   |  10.012227                                            | P1_B2_X108                                            |  3.000000                                             | FALSE                                                 | \n",
       "| 5995 | ENSDARG00000055216                                    | tuba1c                                                | 6582.24665                                            | 480                                                   | 114.587990                                            | P1_B4_X124                                            | 30.392236                                             |  TRUE                                                 | \n",
       "\n",
       "\n"
      ],
      "text/plain": [
       "      current            new              rowSums    NCells MaxVal    \n",
       "7153  ENSDARG00000061736 ank3b             358.13535 183      9.009902\n",
       "9210  ENSDARG00000077582 ank3b             246.08795 123      7.005988\n",
       "188   ENSDARG00000002790 ap2m1b            515.23692 228     13.020674\n",
       "3682  ENSDARG00000033899 ap2m1b            119.02968  89      9.009902\n",
       "490   ENSDARG00000005122 atp2a2a           133.03579  88      6.004399\n",
       "3263  ENSDARG00000029439 atp2a2a            30.00513  25      3.001099\n",
       "5272  ENSDARG00000044902 atp2b2            764.45587 281     15.027533\n",
       "7532  ENSDARG00000063433 atp2b2            237.06681 148      6.004399\n",
       "496   ENSDARG00000005159 cyth1a            190.05496 121      7.005988\n",
       "9002  ENSDARG00000076742 cyth1a             84.02198  56      5.003054\n",
       "738   ENSDARG00000007136 gtf2h4            124.02760  91      5.003054\n",
       "3968  ENSDARG00000036071 gtf2h4             31.00574  26      4.001954\n",
       "2459  ENSDARG00000020504 h3f3b.1          1185.26218 361     57.400325\n",
       "7717  ENSDARG00000068434 h3f3b.1          1112.68788 365     21.054018\n",
       "7718  ENSDARG00000068436 h3f3b.1          1297.91494 386     18.039667\n",
       "3986  ENSDARG00000036161 hnrnpa0l         1098.11193 343     34.141899\n",
       "8914  ENSDARG00000076380 hnrnpa0l           52.01001  40      3.001099\n",
       "420   ENSDARG00000004587 kat5b              49.00965  37      3.001099\n",
       "5454  ENSDARG00000045951 kat5b              53.01062  41      4.001954\n",
       "18    ENSDARG00000000394 matr3l1.1         178.04103 124      6.004399\n",
       "46    ENSDARG00000001162 matr3l1.1         219.06510 128      6.004399\n",
       "2345  ENSDARG00000019658 pou2f2a           195.07244 100      8.007823\n",
       "4086  ENSDARG00000036816 pou2f2a          1112.79507 209     38.177367\n",
       "3723  ENSDARG00000034291 rpl37             576.56695 228     30.110403\n",
       "8910  ENSDARG00000076360 rpl37              29.00476  25      3.001099\n",
       "7749  ENSDARG00000068640 rsf1b.1           134.03469  88      6.004399\n",
       "10915 ENSDARG00000093503 rsf1b.1           196.05129 121      5.003054\n",
       "3533  ENSDARG00000032126 scg5               39.00696  31      3.001099\n",
       "9079  ENSDARG00000077045 scg5              231.06534 142      5.003054\n",
       "8413  ENSDARG00000074298 si:ch73-266f23.1  192.08093 119     17.035376\n",
       "11080 ENSDARG00000095135 si:ch73-266f23.1   86.02590  62     10.012227\n",
       "8267  ENSDARG00000071714 si:dkey-20i20.8    29.00452  26      3.001099\n",
       "11007 ENSDARG00000094343 si:dkey-20i20.8    14.00195  13      2.000488\n",
       "9341  ENSDARG00000078118 sinhcafl           55.01502  36      5.003054\n",
       "11068 ENSDARG00000095007 sinhcafl           81.01868  57      5.003054\n",
       "7510  ENSDARG00000063311 soga3a             19.00281  17      2.000488\n",
       "10241 ENSDARG00000088571 soga3a            174.04226 118      6.004399\n",
       "5342  ENSDARG00000045367 tuba1c            402.17103 186     10.012227\n",
       "5995  ENSDARG00000055216 tuba1c           6582.24665 480    114.587990\n",
       "      MaxValCells                                           scores    accept\n",
       "7153  P1_B2_X99, P1_B2_X180                                  4.530178  TRUE \n",
       "9210  P1_B1_X4                                               3.000000 FALSE \n",
       "188   P2_B5_X13                                              8.335591  TRUE \n",
       "3682  P1_B4_X124                                             3.000000 FALSE \n",
       "490   P2_B7_X63                                              9.954502  TRUE \n",
       "3263  P1_B1_X87                                              3.000000 FALSE \n",
       "5272  P2_B8_X97                                              7.626046  TRUE \n",
       "7532  P2_B5_X14, P2_B8_X97                                   3.301030 FALSE \n",
       "496   P2_B5_X72                                              5.823024  TRUE \n",
       "9002  P2_B5_X45                                              3.000000 FALSE \n",
       "738   P1_B2_X108, P2_B6_X189                                 9.051332  TRUE \n",
       "3968  P2_B7_X63                                              3.000000 FALSE \n",
       "2459  P1_B3_X30                                              5.247119  TRUE \n",
       "7717  P1_B3_X30                                              3.178176 FALSE \n",
       "7718  P1_B3_X30                                              3.235720 FALSE \n",
       "3986  P1_B3_X30                                             41.064936  TRUE \n",
       "8914  P1_B2_X108, P1_B4_X113, P2_B6_X128                     3.477121 FALSE \n",
       "420   P1_B2_X135, P2_B7_X49, P2_B7_X63                       3.477121 FALSE \n",
       "5454  P2_B6_X128                                             3.523241  TRUE \n",
       "18    P1_B3_X30                                              3.000000 FALSE \n",
       "46    P1_B1_X82, P2_B7_X63                                   3.563707  TRUE \n",
       "2345  P1_B2_X108                                             3.000000 FALSE \n",
       "4086  P2_B8_X105                                            12.562031  TRUE \n",
       "3723  P1_B3_X30                                             39.031480  TRUE \n",
       "8910  P1_B3_X30                                              3.000000 FALSE \n",
       "7749  P2_B7_X63                                              3.200147 FALSE \n",
       "10915 P2_B6_X128                                             3.837691  TRUE \n",
       "3533  P2_B7_X18                                              3.000000 FALSE \n",
       "9079  P1_B1_X96, P1_B2_X180, P1_B3_X7, P1_B3_X54, P2_B5_X75 12.870384  TRUE \n",
       "8413  P2_B7_X63                                              5.853639  TRUE \n",
       "11080 P2_B6_X167                                             3.000000 FALSE \n",
       "8267  P2_B8_X112                                             5.571646  TRUE \n",
       "11007 P1_B2_X114                                             3.000000 FALSE \n",
       "9341  P2_B7_X63                                              3.000000 FALSE \n",
       "11068 P2_B5_X27                                              4.055998  TRUE \n",
       "7510  P1_B2_X99, P2_B6_X161                                  3.301030 FALSE \n",
       "10241 P2_B6_X116                                            19.101408  TRUE \n",
       "5342  P1_B2_X108                                             3.000000 FALSE \n",
       "5995  P1_B4_X124                                            30.392236  TRUE "
      ]
     },
     "metadata": {},
     "output_type": "display_data"
    }
   ],
   "source": [
    "df <- data.frame(current=current_names, new=updated_names)\n",
    "dupes <- reportDuplicates(df, clean_matrix)\n",
    "as.numeric.factor <- function(x) {as.numeric(levels(x))[x]}\n",
    "dupes[,c(\"NCells\",\"MaxVal\")] <- sapply(dupes[,c(\"NCells\",\"MaxVal\")], as.numeric.factor)\n",
    "#dupes\n",
    "genelist <- unique(dupes$new)\n",
    "#test_gene <- genelist[2]\n",
    "#chooseMostInformativeTranscript(test_gene)\n",
    "dupes <- do.call(rbind, lapply(genelist, chooseMostInformativeTranscript))\n",
    "dupes"
   ]
  },
  {
   "cell_type": "markdown",
   "metadata": {},
   "source": [
    "#### Manual Pruning\n",
    "Prior to scoring, I attempted to curate this list manually myself under the following criterion:\n",
    "\n",
    " * A : Features that share a max value cell but one transcript has stronger DE\n",
    " * B : Features that share a max value cell, but one transcript is not significantly better than another\n",
    " * C : Features that don't share a max value cell, but one transcript is of better quality\n",
    " * D : Features that don't share a max value cell, transcripts are of similar quality, but one has more DE\n",
    " * E : Features that don't share a max value cell, are of low quality, and either can be picked\n",
    "\n",
    "\n",
    " | Gene | Chosen | Rejected | Category |  \n",
    " |------|--------|----------|----------|\n",
    " | ank3b | ENSDARG00000061736 | ENSDARG00000077582 | D |\n",
    " | ap2m1b | ENSDARG00000002790 | ENSDARG00000033899 | C |\n",
    " | atp2a2a | ENSDARG00000005122 | ENSDARG00000029439 | C |\n",
    " | atp2b2 | ENSDARG00000044902 | ENSDARG00000063433 | A |\n",
    " | cyth1a | ENSDARG00000005159 | ENSDARG00000076742 | C |\n",
    " | gtf2h4 | ENSDARG00000007136 | ENSDARG00000036071 | C |\n",
    " | h3f3b.1 | ENSDARG00000020504 | ENSDARG00000068434, ENSDARG00000068436 | A |\n",
    " | hnrnpa0l | ENSDARG00000036161 | ENSDARG00000076380 | C |\n",
    " | kat5b | ENSDARG00000004587 | ENSDARG00000045951 | D |\n",
    " | matr3l1.1 | ENSDARG00000001162 | ENSDARG00000000394 | D | \n",
    " | pou2f2a | ENSDARG00000036816 | ENSDARG00000019658 | C |\n",
    " | rpl37 | ENSDARG00000034291 | ENSDARG00000076360 | A |\n",
    " | rsf1b.1  | ENSDARG00000093503 | ENSDARG00000068640 | D | \n",
    " | scg5 | ENSDARG00000077045 | ENSDARG00000032126 | C |\n",
    " | si:ch73-266f23.1 | ENSDARG00000074298 | ENSDARG00000095135 | E |\n",
    " | si:dkey-20i20.8 | ENSDARG00000071714 | ENSDARG00000094343 | E |\n",
    " | sinhcafl | ENSDARG00000095007 | ENSDARG00000078118 | E |\n",
    " | soga3a | ENSDARG00000088571 | ENSDARG00000063311 | C |\n",
    " | tuba1c | ENSDARG00000055216 | ENSDARG00000045367 | C |\n",
    " \n",
    "\n",
    "\n",
    "With the scoring system develop, we can verify that this good accordance between mine and the manual sets with the exception of *kat5b* which was a marginal difference at best:\n",
    "\n",
    "  \n",
    "#### Automatic Pruning\n"
   ]
  },
  {
   "cell_type": "code",
   "execution_count": 559,
   "metadata": {
    "ExecuteTime": {
     "end_time": "2018-06-15T14:40:55.554447Z",
     "start_time": "2018-06-15T14:39:38.542Z"
    }
   },
   "outputs": [
    {
     "data": {
      "text/html": [
       "<table>\n",
       "<thead><tr><th></th><th scope=col>current</th><th scope=col>new</th><th scope=col>rowSums</th><th scope=col>NCells</th><th scope=col>MaxVal</th><th scope=col>MaxValCells</th><th scope=col>scores</th><th scope=col>accept</th></tr></thead>\n",
       "<tbody>\n",
       "\t<tr><th scope=row>7153</th><td>ENSDARG00000061736                                   </td><td>ank3b                                                </td><td> 358.13535                                           </td><td>183                                                  </td><td>  9.009902                                           </td><td>P1_B2_X99, P1_B2_X180                                </td><td> 4.530178                                            </td><td>TRUE                                                 </td></tr>\n",
       "\t<tr><th scope=row>188</th><td>ENSDARG00000002790                                   </td><td>ap2m1b                                               </td><td> 515.23692                                           </td><td>228                                                  </td><td> 13.020674                                           </td><td>P2_B5_X13                                            </td><td> 8.335591                                            </td><td>TRUE                                                 </td></tr>\n",
       "\t<tr><th scope=row>490</th><td>ENSDARG00000005122                                   </td><td>atp2a2a                                              </td><td> 133.03579                                           </td><td> 88                                                  </td><td>  6.004399                                           </td><td>P2_B7_X63                                            </td><td> 9.954502                                            </td><td>TRUE                                                 </td></tr>\n",
       "\t<tr><th scope=row>5272</th><td>ENSDARG00000044902                                   </td><td>atp2b2                                               </td><td> 764.45587                                           </td><td>281                                                  </td><td> 15.027533                                           </td><td>P2_B8_X97                                            </td><td> 7.626046                                            </td><td>TRUE                                                 </td></tr>\n",
       "\t<tr><th scope=row>496</th><td>ENSDARG00000005159                                   </td><td>cyth1a                                               </td><td> 190.05496                                           </td><td>121                                                  </td><td>  7.005988                                           </td><td>P2_B5_X72                                            </td><td> 5.823024                                            </td><td>TRUE                                                 </td></tr>\n",
       "\t<tr><th scope=row>738</th><td>ENSDARG00000007136                                   </td><td>gtf2h4                                               </td><td> 124.02760                                           </td><td> 91                                                  </td><td>  5.003054                                           </td><td>P1_B2_X108, P2_B6_X189                               </td><td> 9.051332                                            </td><td>TRUE                                                 </td></tr>\n",
       "\t<tr><th scope=row>2459</th><td>ENSDARG00000020504                                   </td><td>h3f3b.1                                              </td><td>1185.26218                                           </td><td>361                                                  </td><td> 57.400325                                           </td><td>P1_B3_X30                                            </td><td> 5.247119                                            </td><td>TRUE                                                 </td></tr>\n",
       "\t<tr><th scope=row>3986</th><td>ENSDARG00000036161                                   </td><td>hnrnpa0l                                             </td><td>1098.11193                                           </td><td>343                                                  </td><td> 34.141899                                           </td><td>P1_B3_X30                                            </td><td>41.064936                                            </td><td>TRUE                                                 </td></tr>\n",
       "\t<tr><th scope=row>5454</th><td>ENSDARG00000045951                                   </td><td>kat5b                                                </td><td>  53.01062                                           </td><td> 41                                                  </td><td>  4.001954                                           </td><td>P2_B6_X128                                           </td><td> 3.523241                                            </td><td>TRUE                                                 </td></tr>\n",
       "\t<tr><th scope=row>46</th><td>ENSDARG00000001162                                   </td><td>matr3l1.1                                            </td><td> 219.06510                                           </td><td>128                                                  </td><td>  6.004399                                           </td><td>P1_B1_X82, P2_B7_X63                                 </td><td> 3.563707                                            </td><td>TRUE                                                 </td></tr>\n",
       "\t<tr><th scope=row>4086</th><td>ENSDARG00000036816                                   </td><td>pou2f2a                                              </td><td>1112.79507                                           </td><td>209                                                  </td><td> 38.177367                                           </td><td>P2_B8_X105                                           </td><td>12.562031                                            </td><td>TRUE                                                 </td></tr>\n",
       "\t<tr><th scope=row>3723</th><td>ENSDARG00000034291                                   </td><td>rpl37                                                </td><td> 576.56695                                           </td><td>228                                                  </td><td> 30.110403                                           </td><td>P1_B3_X30                                            </td><td>39.031480                                            </td><td>TRUE                                                 </td></tr>\n",
       "\t<tr><th scope=row>10915</th><td>ENSDARG00000093503                                   </td><td>rsf1b.1                                              </td><td> 196.05129                                           </td><td>121                                                  </td><td>  5.003054                                           </td><td>P2_B6_X128                                           </td><td> 3.837691                                            </td><td>TRUE                                                 </td></tr>\n",
       "\t<tr><th scope=row>9079</th><td>ENSDARG00000077045                                   </td><td>scg5                                                 </td><td> 231.06534                                           </td><td>142                                                  </td><td>  5.003054                                           </td><td>P1_B1_X96, P1_B2_X180, P1_B3_X7, P1_B3_X54, P2_B5_X75</td><td>12.870384                                            </td><td>TRUE                                                 </td></tr>\n",
       "\t<tr><th scope=row>8413</th><td>ENSDARG00000074298                                   </td><td>si:ch73-266f23.1                                     </td><td> 192.08093                                           </td><td>119                                                  </td><td> 17.035376                                           </td><td>P2_B7_X63                                            </td><td> 5.853639                                            </td><td>TRUE                                                 </td></tr>\n",
       "\t<tr><th scope=row>8267</th><td>ENSDARG00000071714                                   </td><td>si:dkey-20i20.8                                      </td><td>  29.00452                                           </td><td> 26                                                  </td><td>  3.001099                                           </td><td>P2_B8_X112                                           </td><td> 5.571646                                            </td><td>TRUE                                                 </td></tr>\n",
       "\t<tr><th scope=row>11068</th><td>ENSDARG00000095007                                   </td><td>sinhcafl                                             </td><td>  81.01868                                           </td><td> 57                                                  </td><td>  5.003054                                           </td><td>P2_B5_X27                                            </td><td> 4.055998                                            </td><td>TRUE                                                 </td></tr>\n",
       "\t<tr><th scope=row>10241</th><td>ENSDARG00000088571                                   </td><td>soga3a                                               </td><td> 174.04226                                           </td><td>118                                                  </td><td>  6.004399                                           </td><td>P2_B6_X116                                           </td><td>19.101408                                            </td><td>TRUE                                                 </td></tr>\n",
       "\t<tr><th scope=row>5995</th><td>ENSDARG00000055216                                   </td><td>tuba1c                                               </td><td>6582.24665                                           </td><td>480                                                  </td><td>114.587990                                           </td><td>P1_B4_X124                                           </td><td>30.392236                                            </td><td>TRUE                                                 </td></tr>\n",
       "</tbody>\n",
       "</table>\n"
      ],
      "text/latex": [
       "\\begin{tabular}{r|llllllll}\n",
       "  & current & new & rowSums & NCells & MaxVal & MaxValCells & scores & accept\\\\\n",
       "\\hline\n",
       "\t7153 & ENSDARG00000061736                                            & ank3b                                                         &  358.13535                                                    & 183                                                           &   9.009902                                                    & P1\\_B2\\_X99, P1\\_B2\\_X180                                 &  4.530178                                                     & TRUE                                                         \\\\\n",
       "\t188 & ENSDARG00000002790                                        & ap2m1b                                                    &  515.23692                                                & 228                                                       &  13.020674                                                & P2\\_B5\\_X13                                             &  8.335591                                                 & TRUE                                                     \\\\\n",
       "\t490 & ENSDARG00000005122                                        & atp2a2a                                                   &  133.03579                                                &  88                                                       &   6.004399                                                & P2\\_B7\\_X63                                             &  9.954502                                                 & TRUE                                                     \\\\\n",
       "\t5272 & ENSDARG00000044902                                        & atp2b2                                                    &  764.45587                                                & 281                                                       &  15.027533                                                & P2\\_B8\\_X97                                             &  7.626046                                                 & TRUE                                                     \\\\\n",
       "\t496 & ENSDARG00000005159                                        & cyth1a                                                    &  190.05496                                                & 121                                                       &   7.005988                                                & P2\\_B5\\_X72                                             &  5.823024                                                 & TRUE                                                     \\\\\n",
       "\t738 & ENSDARG00000007136                                            & gtf2h4                                                        &  124.02760                                                    &  91                                                           &   5.003054                                                    & P1\\_B2\\_X108, P2\\_B6\\_X189                                &  9.051332                                                     & TRUE                                                         \\\\\n",
       "\t2459 & ENSDARG00000020504                                        & h3f3b.1                                                   & 1185.26218                                                & 361                                                       &  57.400325                                                & P1\\_B3\\_X30                                             &  5.247119                                                 & TRUE                                                     \\\\\n",
       "\t3986 & ENSDARG00000036161                                        & hnrnpa0l                                                  & 1098.11193                                                & 343                                                       &  34.141899                                                & P1\\_B3\\_X30                                             & 41.064936                                                 & TRUE                                                     \\\\\n",
       "\t5454 & ENSDARG00000045951                                        & kat5b                                                     &   53.01062                                                &  41                                                       &   4.001954                                                & P2\\_B6\\_X128                                            &  3.523241                                                 & TRUE                                                     \\\\\n",
       "\t46 & ENSDARG00000001162                                            & matr3l1.1                                                     &  219.06510                                                    & 128                                                           &   6.004399                                                    & P1\\_B1\\_X82, P2\\_B7\\_X63                                  &  3.563707                                                     & TRUE                                                         \\\\\n",
       "\t4086 & ENSDARG00000036816                                        & pou2f2a                                                   & 1112.79507                                                & 209                                                       &  38.177367                                                & P2\\_B8\\_X105                                            & 12.562031                                                 & TRUE                                                     \\\\\n",
       "\t3723 & ENSDARG00000034291                                        & rpl37                                                     &  576.56695                                                & 228                                                       &  30.110403                                                & P1\\_B3\\_X30                                             & 39.031480                                                 & TRUE                                                     \\\\\n",
       "\t10915 & ENSDARG00000093503                                        & rsf1b.1                                                   &  196.05129                                                & 121                                                       &   5.003054                                                & P2\\_B6\\_X128                                            &  3.837691                                                 & TRUE                                                     \\\\\n",
       "\t9079 & ENSDARG00000077045                                                        & scg5                                                                      &  231.06534                                                                & 142                                                                       &   5.003054                                                                & P1\\_B1\\_X96, P1\\_B2\\_X180, P1\\_B3\\_X7, P1\\_B3\\_X54, P2\\_B5\\_X75 & 12.870384                                                                 & TRUE                                                                     \\\\\n",
       "\t8413 & ENSDARG00000074298                                        & si:ch73-266f23.1                                          &  192.08093                                                & 119                                                       &  17.035376                                                & P2\\_B7\\_X63                                             &  5.853639                                                 & TRUE                                                     \\\\\n",
       "\t8267 & ENSDARG00000071714                                        & si:dkey-20i20.8                                           &   29.00452                                                &  26                                                       &   3.001099                                                & P2\\_B8\\_X112                                            &  5.571646                                                 & TRUE                                                     \\\\\n",
       "\t11068 & ENSDARG00000095007                                        & sinhcafl                                                  &   81.01868                                                &  57                                                       &   5.003054                                                & P2\\_B5\\_X27                                             &  4.055998                                                 & TRUE                                                     \\\\\n",
       "\t10241 & ENSDARG00000088571                                        & soga3a                                                    &  174.04226                                                & 118                                                       &   6.004399                                                & P2\\_B6\\_X116                                            & 19.101408                                                 & TRUE                                                     \\\\\n",
       "\t5995 & ENSDARG00000055216                                        & tuba1c                                                    & 6582.24665                                                & 480                                                       & 114.587990                                                & P1\\_B4\\_X124                                            & 30.392236                                                 & TRUE                                                     \\\\\n",
       "\\end{tabular}\n"
      ],
      "text/markdown": [
       "\n",
       "| <!--/--> | current | new | rowSums | NCells | MaxVal | MaxValCells | scores | accept | \n",
       "|---|---|---|---|---|---|---|---|---|---|---|---|---|---|---|---|---|---|---|\n",
       "| 7153 | ENSDARG00000061736                                    | ank3b                                                 |  358.13535                                            | 183                                                   |   9.009902                                            | P1_B2_X99, P1_B2_X180                                 |  4.530178                                             | TRUE                                                  | \n",
       "| 188 | ENSDARG00000002790                                    | ap2m1b                                                |  515.23692                                            | 228                                                   |  13.020674                                            | P2_B5_X13                                             |  8.335591                                             | TRUE                                                  | \n",
       "| 490 | ENSDARG00000005122                                    | atp2a2a                                               |  133.03579                                            |  88                                                   |   6.004399                                            | P2_B7_X63                                             |  9.954502                                             | TRUE                                                  | \n",
       "| 5272 | ENSDARG00000044902                                    | atp2b2                                                |  764.45587                                            | 281                                                   |  15.027533                                            | P2_B8_X97                                             |  7.626046                                             | TRUE                                                  | \n",
       "| 496 | ENSDARG00000005159                                    | cyth1a                                                |  190.05496                                            | 121                                                   |   7.005988                                            | P2_B5_X72                                             |  5.823024                                             | TRUE                                                  | \n",
       "| 738 | ENSDARG00000007136                                    | gtf2h4                                                |  124.02760                                            |  91                                                   |   5.003054                                            | P1_B2_X108, P2_B6_X189                                |  9.051332                                             | TRUE                                                  | \n",
       "| 2459 | ENSDARG00000020504                                    | h3f3b.1                                               | 1185.26218                                            | 361                                                   |  57.400325                                            | P1_B3_X30                                             |  5.247119                                             | TRUE                                                  | \n",
       "| 3986 | ENSDARG00000036161                                    | hnrnpa0l                                              | 1098.11193                                            | 343                                                   |  34.141899                                            | P1_B3_X30                                             | 41.064936                                             | TRUE                                                  | \n",
       "| 5454 | ENSDARG00000045951                                    | kat5b                                                 |   53.01062                                            |  41                                                   |   4.001954                                            | P2_B6_X128                                            |  3.523241                                             | TRUE                                                  | \n",
       "| 46 | ENSDARG00000001162                                    | matr3l1.1                                             |  219.06510                                            | 128                                                   |   6.004399                                            | P1_B1_X82, P2_B7_X63                                  |  3.563707                                             | TRUE                                                  | \n",
       "| 4086 | ENSDARG00000036816                                    | pou2f2a                                               | 1112.79507                                            | 209                                                   |  38.177367                                            | P2_B8_X105                                            | 12.562031                                             | TRUE                                                  | \n",
       "| 3723 | ENSDARG00000034291                                    | rpl37                                                 |  576.56695                                            | 228                                                   |  30.110403                                            | P1_B3_X30                                             | 39.031480                                             | TRUE                                                  | \n",
       "| 10915 | ENSDARG00000093503                                    | rsf1b.1                                               |  196.05129                                            | 121                                                   |   5.003054                                            | P2_B6_X128                                            |  3.837691                                             | TRUE                                                  | \n",
       "| 9079 | ENSDARG00000077045                                    | scg5                                                  |  231.06534                                            | 142                                                   |   5.003054                                            | P1_B1_X96, P1_B2_X180, P1_B3_X7, P1_B3_X54, P2_B5_X75 | 12.870384                                             | TRUE                                                  | \n",
       "| 8413 | ENSDARG00000074298                                    | si:ch73-266f23.1                                      |  192.08093                                            | 119                                                   |  17.035376                                            | P2_B7_X63                                             |  5.853639                                             | TRUE                                                  | \n",
       "| 8267 | ENSDARG00000071714                                    | si:dkey-20i20.8                                       |   29.00452                                            |  26                                                   |   3.001099                                            | P2_B8_X112                                            |  5.571646                                             | TRUE                                                  | \n",
       "| 11068 | ENSDARG00000095007                                    | sinhcafl                                              |   81.01868                                            |  57                                                   |   5.003054                                            | P2_B5_X27                                             |  4.055998                                             | TRUE                                                  | \n",
       "| 10241 | ENSDARG00000088571                                    | soga3a                                                |  174.04226                                            | 118                                                   |   6.004399                                            | P2_B6_X116                                            | 19.101408                                             | TRUE                                                  | \n",
       "| 5995 | ENSDARG00000055216                                    | tuba1c                                                | 6582.24665                                            | 480                                                   | 114.587990                                            | P1_B4_X124                                            | 30.392236                                             | TRUE                                                  | \n",
       "\n",
       "\n"
      ],
      "text/plain": [
       "      current            new              rowSums    NCells MaxVal    \n",
       "7153  ENSDARG00000061736 ank3b             358.13535 183      9.009902\n",
       "188   ENSDARG00000002790 ap2m1b            515.23692 228     13.020674\n",
       "490   ENSDARG00000005122 atp2a2a           133.03579  88      6.004399\n",
       "5272  ENSDARG00000044902 atp2b2            764.45587 281     15.027533\n",
       "496   ENSDARG00000005159 cyth1a            190.05496 121      7.005988\n",
       "738   ENSDARG00000007136 gtf2h4            124.02760  91      5.003054\n",
       "2459  ENSDARG00000020504 h3f3b.1          1185.26218 361     57.400325\n",
       "3986  ENSDARG00000036161 hnrnpa0l         1098.11193 343     34.141899\n",
       "5454  ENSDARG00000045951 kat5b              53.01062  41      4.001954\n",
       "46    ENSDARG00000001162 matr3l1.1         219.06510 128      6.004399\n",
       "4086  ENSDARG00000036816 pou2f2a          1112.79507 209     38.177367\n",
       "3723  ENSDARG00000034291 rpl37             576.56695 228     30.110403\n",
       "10915 ENSDARG00000093503 rsf1b.1           196.05129 121      5.003054\n",
       "9079  ENSDARG00000077045 scg5              231.06534 142      5.003054\n",
       "8413  ENSDARG00000074298 si:ch73-266f23.1  192.08093 119     17.035376\n",
       "8267  ENSDARG00000071714 si:dkey-20i20.8    29.00452  26      3.001099\n",
       "11068 ENSDARG00000095007 sinhcafl           81.01868  57      5.003054\n",
       "10241 ENSDARG00000088571 soga3a            174.04226 118      6.004399\n",
       "5995  ENSDARG00000055216 tuba1c           6582.24665 480    114.587990\n",
       "      MaxValCells                                           scores    accept\n",
       "7153  P1_B2_X99, P1_B2_X180                                  4.530178 TRUE  \n",
       "188   P2_B5_X13                                              8.335591 TRUE  \n",
       "490   P2_B7_X63                                              9.954502 TRUE  \n",
       "5272  P2_B8_X97                                              7.626046 TRUE  \n",
       "496   P2_B5_X72                                              5.823024 TRUE  \n",
       "738   P1_B2_X108, P2_B6_X189                                 9.051332 TRUE  \n",
       "2459  P1_B3_X30                                              5.247119 TRUE  \n",
       "3986  P1_B3_X30                                             41.064936 TRUE  \n",
       "5454  P2_B6_X128                                             3.523241 TRUE  \n",
       "46    P1_B1_X82, P2_B7_X63                                   3.563707 TRUE  \n",
       "4086  P2_B8_X105                                            12.562031 TRUE  \n",
       "3723  P1_B3_X30                                             39.031480 TRUE  \n",
       "10915 P2_B6_X128                                             3.837691 TRUE  \n",
       "9079  P1_B1_X96, P1_B2_X180, P1_B3_X7, P1_B3_X54, P2_B5_X75 12.870384 TRUE  \n",
       "8413  P2_B7_X63                                              5.853639 TRUE  \n",
       "8267  P2_B8_X112                                             5.571646 TRUE  \n",
       "11068 P2_B5_X27                                              4.055998 TRUE  \n",
       "10241 P2_B6_X116                                            19.101408 TRUE  \n",
       "5995  P1_B4_X124                                            30.392236 TRUE  "
      ]
     },
     "metadata": {},
     "output_type": "display_data"
    }
   ],
   "source": [
    "dupes[dupes$accept,]"
   ]
  },
  {
   "cell_type": "markdown",
   "metadata": {},
   "source": [
    "We will therefore drop the following transcripts from our matrix:"
   ]
  },
  {
   "cell_type": "code",
   "execution_count": 596,
   "metadata": {
    "ExecuteTime": {
     "end_time": "2018-06-15T14:53:53.461210Z",
     "start_time": "2018-06-15T14:52:36.108Z"
    }
   },
   "outputs": [
    {
     "data": {
      "text/html": [
       "<ol class=list-inline>\n",
       "\t<li>'ENSDARG00000077582'</li>\n",
       "\t<li>'ENSDARG00000033899'</li>\n",
       "\t<li>'ENSDARG00000029439'</li>\n",
       "\t<li>'ENSDARG00000063433'</li>\n",
       "\t<li>'ENSDARG00000076742'</li>\n",
       "\t<li>'ENSDARG00000036071'</li>\n",
       "\t<li>'ENSDARG00000068434'</li>\n",
       "\t<li>'ENSDARG00000068436'</li>\n",
       "\t<li>'ENSDARG00000076380'</li>\n",
       "\t<li>'ENSDARG00000004587'</li>\n",
       "\t<li>'ENSDARG00000000394'</li>\n",
       "\t<li>'ENSDARG00000019658'</li>\n",
       "\t<li>'ENSDARG00000076360'</li>\n",
       "\t<li>'ENSDARG00000068640'</li>\n",
       "\t<li>'ENSDARG00000032126'</li>\n",
       "\t<li>'ENSDARG00000095135'</li>\n",
       "\t<li>'ENSDARG00000094343'</li>\n",
       "\t<li>'ENSDARG00000078118'</li>\n",
       "\t<li>'ENSDARG00000063311'</li>\n",
       "\t<li>'ENSDARG00000045367'</li>\n",
       "</ol>\n"
      ],
      "text/latex": [
       "\\begin{enumerate*}\n",
       "\\item 'ENSDARG00000077582'\n",
       "\\item 'ENSDARG00000033899'\n",
       "\\item 'ENSDARG00000029439'\n",
       "\\item 'ENSDARG00000063433'\n",
       "\\item 'ENSDARG00000076742'\n",
       "\\item 'ENSDARG00000036071'\n",
       "\\item 'ENSDARG00000068434'\n",
       "\\item 'ENSDARG00000068436'\n",
       "\\item 'ENSDARG00000076380'\n",
       "\\item 'ENSDARG00000004587'\n",
       "\\item 'ENSDARG00000000394'\n",
       "\\item 'ENSDARG00000019658'\n",
       "\\item 'ENSDARG00000076360'\n",
       "\\item 'ENSDARG00000068640'\n",
       "\\item 'ENSDARG00000032126'\n",
       "\\item 'ENSDARG00000095135'\n",
       "\\item 'ENSDARG00000094343'\n",
       "\\item 'ENSDARG00000078118'\n",
       "\\item 'ENSDARG00000063311'\n",
       "\\item 'ENSDARG00000045367'\n",
       "\\end{enumerate*}\n"
      ],
      "text/markdown": [
       "1. 'ENSDARG00000077582'\n",
       "2. 'ENSDARG00000033899'\n",
       "3. 'ENSDARG00000029439'\n",
       "4. 'ENSDARG00000063433'\n",
       "5. 'ENSDARG00000076742'\n",
       "6. 'ENSDARG00000036071'\n",
       "7. 'ENSDARG00000068434'\n",
       "8. 'ENSDARG00000068436'\n",
       "9. 'ENSDARG00000076380'\n",
       "10. 'ENSDARG00000004587'\n",
       "11. 'ENSDARG00000000394'\n",
       "12. 'ENSDARG00000019658'\n",
       "13. 'ENSDARG00000076360'\n",
       "14. 'ENSDARG00000068640'\n",
       "15. 'ENSDARG00000032126'\n",
       "16. 'ENSDARG00000095135'\n",
       "17. 'ENSDARG00000094343'\n",
       "18. 'ENSDARG00000078118'\n",
       "19. 'ENSDARG00000063311'\n",
       "20. 'ENSDARG00000045367'\n",
       "\n",
       "\n"
      ],
      "text/plain": [
       " [1] \"ENSDARG00000077582\" \"ENSDARG00000033899\" \"ENSDARG00000029439\"\n",
       " [4] \"ENSDARG00000063433\" \"ENSDARG00000076742\" \"ENSDARG00000036071\"\n",
       " [7] \"ENSDARG00000068434\" \"ENSDARG00000068436\" \"ENSDARG00000076380\"\n",
       "[10] \"ENSDARG00000004587\" \"ENSDARG00000000394\" \"ENSDARG00000019658\"\n",
       "[13] \"ENSDARG00000076360\" \"ENSDARG00000068640\" \"ENSDARG00000032126\"\n",
       "[16] \"ENSDARG00000095135\" \"ENSDARG00000094343\" \"ENSDARG00000078118\"\n",
       "[19] \"ENSDARG00000063311\" \"ENSDARG00000045367\""
      ]
     },
     "metadata": {},
     "output_type": "display_data"
    },
    {
     "data": {
      "text/html": [
       "<table>\n",
       "<thead><tr><th></th><th scope=col>features</th><th scope=col>cells</th></tr></thead>\n",
       "<tbody>\n",
       "\t<tr><th scope=row>clean</th><td>11257</td><td>768  </td></tr>\n",
       "\t<tr><th scope=row>pruned</th><td>11237</td><td>768  </td></tr>\n",
       "</tbody>\n",
       "</table>\n"
      ],
      "text/latex": [
       "\\begin{tabular}{r|ll}\n",
       "  & features & cells\\\\\n",
       "\\hline\n",
       "\tclean & 11257 & 768  \\\\\n",
       "\tpruned & 11237 & 768  \\\\\n",
       "\\end{tabular}\n"
      ],
      "text/markdown": [
       "\n",
       "| <!--/--> | features | cells | \n",
       "|---|---|\n",
       "| clean | 11257 | 768   | \n",
       "| pruned | 11237 | 768   | \n",
       "\n",
       "\n"
      ],
      "text/plain": [
       "       features cells\n",
       "clean  11257    768  \n",
       "pruned 11237    768  "
      ]
     },
     "metadata": {},
     "output_type": "display_data"
    }
   ],
   "source": [
    "drop_list <- c(as.character(dupes[!dupes$accept,]$current))\n",
    "drop_list\n",
    "\n",
    "pruned_matrix <- clean_matrix[!(rownames(clean_matrix) %in% drop_list),]\n",
    "t(data.frame(clean = dim(clean_matrix), pruned = dim(pruned_matrix), row.names=c(\"features\",\"cells\")))"
   ]
  },
  {
   "cell_type": "markdown",
   "metadata": {
    "ExecuteTime": {
     "end_time": "2018-06-14T23:38:57.945215Z",
     "start_time": "2018-06-14T23:37:41.871Z"
    }
   },
   "source": [
    "Now let's re-run the annotation step with our pruned matrix and see if we encounter any duplicated transcripts\n",
    "\n",
    "## Feature Annotation Re-Run\n",
    "\n"
   ]
  },
  {
   "cell_type": "code",
   "execution_count": 597,
   "metadata": {
    "ExecuteTime": {
     "end_time": "2018-06-15T14:55:32.757450Z",
     "start_time": "2018-06-15T14:53:59.753Z"
    },
    "scrolled": true
   },
   "outputs": [
    {
     "name": "stderr",
     "output_type": "stream",
     "text": [
      "1852 to be replaced\n",
      "Current Names: 11237, Update Names: 11237 of which 0 are duplicates\n"
     ]
    }
   ],
   "source": [
    "current_names <- rownames(pruned_matrix)\n",
    "updated_names <- replaceRowNames(current_names)\n",
    "\n",
    "message(\n",
    "    \"Current Names: \", length(current_names), \n",
    "    \", Update Names: \", length(updated_names), \n",
    "    \" of which \", length(updated_names) - length(unique(updated_names)), \" are duplicates\")"
   ]
  },
  {
   "cell_type": "markdown",
   "metadata": {},
   "source": [
    "Good. Now we can updated the names non-problematically:"
   ]
  },
  {
   "cell_type": "code",
   "execution_count": 598,
   "metadata": {
    "ExecuteTime": {
     "end_time": "2018-06-15T14:56:28.457045Z",
     "start_time": "2018-06-15T14:55:11.465Z"
    }
   },
   "outputs": [
    {
     "data": {
      "text/html": [
       "<table>\n",
       "<thead><tr><th></th><th scope=col>P1_B1_X1</th><th scope=col>P1_B1_X2</th><th scope=col>P1_B1_X3</th><th scope=col>P1_B1_X4</th><th scope=col>P1_B1_X5</th><th scope=col>P1_B1_X6</th><th scope=col>P1_B1_X7</th><th scope=col>P1_B1_X8</th><th scope=col>P1_B1_X9</th><th scope=col>P1_B1_X10</th><th scope=col>⋯</th><th scope=col>P2_B8_X183</th><th scope=col>P2_B8_X184</th><th scope=col>P2_B8_X185</th><th scope=col>P2_B8_X186</th><th scope=col>P2_B8_X187</th><th scope=col>P2_B8_X188</th><th scope=col>P2_B8_X189</th><th scope=col>P2_B8_X190</th><th scope=col>P2_B8_X191</th><th scope=col>P2_B8_X192</th></tr></thead>\n",
       "<tbody>\n",
       "\t<tr><th scope=row>ccdc80</th><td>0       </td><td>0.000000</td><td>0       </td><td>0.000000</td><td>0       </td><td>0.000000</td><td>0.000000</td><td>0       </td><td>0.000000</td><td>0.000000</td><td>⋯       </td><td>0       </td><td>0       </td><td>0       </td><td>0       </td><td>0       </td><td>0       </td><td>0.000000</td><td>0       </td><td>0.000000</td><td>0       </td></tr>\n",
       "\t<tr><th scope=row>nrf1</th><td>0       </td><td>0.000000</td><td>0       </td><td>0.000000</td><td>0       </td><td>1.000122</td><td>1.000122</td><td>0       </td><td>0.000000</td><td>0.000000</td><td>⋯       </td><td>0       </td><td>0       </td><td>0       </td><td>0       </td><td>0       </td><td>0       </td><td>0.000000</td><td>0       </td><td>0.000000</td><td>0       </td></tr>\n",
       "\t<tr><th scope=row>ube2h</th><td>0       </td><td>0.000000</td><td>0       </td><td>3.001099</td><td>0       </td><td>1.000122</td><td>1.000122</td><td>0       </td><td>1.000122</td><td>1.000122</td><td>⋯       </td><td>0       </td><td>0       </td><td>0       </td><td>0       </td><td>0       </td><td>0       </td><td>0.000000</td><td>0       </td><td>0.000000</td><td>0       </td></tr>\n",
       "\t<tr><th scope=row>slc9a3r1a</th><td>0       </td><td>0.000000</td><td>0       </td><td>0.000000</td><td>0       </td><td>0.000000</td><td>0.000000</td><td>0       </td><td>0.000000</td><td>0.000000</td><td>⋯       </td><td>0       </td><td>0       </td><td>0       </td><td>0       </td><td>0       </td><td>0       </td><td>0.000000</td><td>0       </td><td>0.000000</td><td>0       </td></tr>\n",
       "\t<tr><th scope=row>dap</th><td>0       </td><td>0.000000</td><td>0       </td><td>1.000122</td><td>0       </td><td>0.000000</td><td>0.000000</td><td>0       </td><td>1.000122</td><td>0.000000</td><td>⋯       </td><td>0       </td><td>0       </td><td>0       </td><td>0       </td><td>0       </td><td>0       </td><td>1.000122</td><td>0       </td><td>0.000000</td><td>0       </td></tr>\n",
       "\t<tr><th scope=row>itsn1</th><td>0       </td><td>1.000122</td><td>0       </td><td>0.000000</td><td>0       </td><td>0.000000</td><td>0.000000</td><td>0       </td><td>0.000000</td><td>0.000000</td><td>⋯       </td><td>0       </td><td>0       </td><td>0       </td><td>0       </td><td>0       </td><td>0       </td><td>0.000000</td><td>0       </td><td>1.000122</td><td>0       </td></tr>\n",
       "</tbody>\n",
       "</table>\n"
      ],
      "text/latex": [
       "\\begin{tabular}{r|llllllllllllllllllllllllllllllllllllllllllllllllllllllllllllllllllllllllllllllllllllllllllllllllllllllllllllllllllllllllllllllllllllllllllllllllllllllllllllllllllllllllllllllllllllllllllllllllllllllllllllllllllllllllllllllllllllllllllllllllllllllllllllllllllllllllllllllllllllllllllllllllllllllllllllllllllllllllllllllllllllllllllllllllllllllllllllllllllllllllllllllllllllllllllllllllllllllllllllllllllllllllllllllllllllllllllllllllllllllllllllllllllllllllllllllllllllllllllllllllllllllllllllllllllllllllllllllllllllllllllllllllllllllllllllllllllllllllllllllllllllllllllllllllllllllllllllllllllllllllllllllllllllllllllllllllllllllllllllllllllllllllllllllllllllllllllllllllllllllllllllllllllllllllllllllllllllllllllllllllllllllllllllllllllllllllllllllllllllllllllllllll}\n",
       "  & P1\\_B1\\_X1 & P1\\_B1\\_X2 & P1\\_B1\\_X3 & P1\\_B1\\_X4 & P1\\_B1\\_X5 & P1\\_B1\\_X6 & P1\\_B1\\_X7 & P1\\_B1\\_X8 & P1\\_B1\\_X9 & P1\\_B1\\_X10 & ⋯ & P2\\_B8\\_X183 & P2\\_B8\\_X184 & P2\\_B8\\_X185 & P2\\_B8\\_X186 & P2\\_B8\\_X187 & P2\\_B8\\_X188 & P2\\_B8\\_X189 & P2\\_B8\\_X190 & P2\\_B8\\_X191 & P2\\_B8\\_X192\\\\\n",
       "\\hline\n",
       "\tccdc80 & 0        & 0.000000 & 0        & 0.000000 & 0        & 0.000000 & 0.000000 & 0        & 0.000000 & 0.000000 & ⋯        & 0        & 0        & 0        & 0        & 0        & 0        & 0.000000 & 0        & 0.000000 & 0       \\\\\n",
       "\tnrf1 & 0        & 0.000000 & 0        & 0.000000 & 0        & 1.000122 & 1.000122 & 0        & 0.000000 & 0.000000 & ⋯        & 0        & 0        & 0        & 0        & 0        & 0        & 0.000000 & 0        & 0.000000 & 0       \\\\\n",
       "\tube2h & 0        & 0.000000 & 0        & 3.001099 & 0        & 1.000122 & 1.000122 & 0        & 1.000122 & 1.000122 & ⋯        & 0        & 0        & 0        & 0        & 0        & 0        & 0.000000 & 0        & 0.000000 & 0       \\\\\n",
       "\tslc9a3r1a & 0        & 0.000000 & 0        & 0.000000 & 0        & 0.000000 & 0.000000 & 0        & 0.000000 & 0.000000 & ⋯        & 0        & 0        & 0        & 0        & 0        & 0        & 0.000000 & 0        & 0.000000 & 0       \\\\\n",
       "\tdap & 0        & 0.000000 & 0        & 1.000122 & 0        & 0.000000 & 0.000000 & 0        & 1.000122 & 0.000000 & ⋯        & 0        & 0        & 0        & 0        & 0        & 0        & 1.000122 & 0        & 0.000000 & 0       \\\\\n",
       "\titsn1 & 0        & 1.000122 & 0        & 0.000000 & 0        & 0.000000 & 0.000000 & 0        & 0.000000 & 0.000000 & ⋯        & 0        & 0        & 0        & 0        & 0        & 0        & 0.000000 & 0        & 1.000122 & 0       \\\\\n",
       "\\end{tabular}\n"
      ],
      "text/markdown": [
       "\n",
       "| <!--/--> | P1_B1_X1 | P1_B1_X2 | P1_B1_X3 | P1_B1_X4 | P1_B1_X5 | P1_B1_X6 | P1_B1_X7 | P1_B1_X8 | P1_B1_X9 | P1_B1_X10 | ⋯ | P2_B8_X183 | P2_B8_X184 | P2_B8_X185 | P2_B8_X186 | P2_B8_X187 | P2_B8_X188 | P2_B8_X189 | P2_B8_X190 | P2_B8_X191 | P2_B8_X192 | \n",
       "|---|---|---|---|---|---|\n",
       "| ccdc80 | 0        | 0.000000 | 0        | 0.000000 | 0        | 0.000000 | 0.000000 | 0        | 0.000000 | 0.000000 | ⋯        | 0        | 0        | 0        | 0        | 0        | 0        | 0.000000 | 0        | 0.000000 | 0        | \n",
       "| nrf1 | 0        | 0.000000 | 0        | 0.000000 | 0        | 1.000122 | 1.000122 | 0        | 0.000000 | 0.000000 | ⋯        | 0        | 0        | 0        | 0        | 0        | 0        | 0.000000 | 0        | 0.000000 | 0        | \n",
       "| ube2h | 0        | 0.000000 | 0        | 3.001099 | 0        | 1.000122 | 1.000122 | 0        | 1.000122 | 1.000122 | ⋯        | 0        | 0        | 0        | 0        | 0        | 0        | 0.000000 | 0        | 0.000000 | 0        | \n",
       "| slc9a3r1a | 0        | 0.000000 | 0        | 0.000000 | 0        | 0.000000 | 0.000000 | 0        | 0.000000 | 0.000000 | ⋯        | 0        | 0        | 0        | 0        | 0        | 0        | 0.000000 | 0        | 0.000000 | 0        | \n",
       "| dap | 0        | 0.000000 | 0        | 1.000122 | 0        | 0.000000 | 0.000000 | 0        | 1.000122 | 0.000000 | ⋯        | 0        | 0        | 0        | 0        | 0        | 0        | 1.000122 | 0        | 0.000000 | 0        | \n",
       "| itsn1 | 0        | 1.000122 | 0        | 0.000000 | 0        | 0.000000 | 0.000000 | 0        | 0.000000 | 0.000000 | ⋯        | 0        | 0        | 0        | 0        | 0        | 0        | 0.000000 | 0        | 1.000122 | 0        | \n",
       "\n",
       "\n"
      ],
      "text/plain": [
       "          P1_B1_X1 P1_B1_X2 P1_B1_X3 P1_B1_X4 P1_B1_X5 P1_B1_X6 P1_B1_X7\n",
       "ccdc80    0        0.000000 0        0.000000 0        0.000000 0.000000\n",
       "nrf1      0        0.000000 0        0.000000 0        1.000122 1.000122\n",
       "ube2h     0        0.000000 0        3.001099 0        1.000122 1.000122\n",
       "slc9a3r1a 0        0.000000 0        0.000000 0        0.000000 0.000000\n",
       "dap       0        0.000000 0        1.000122 0        0.000000 0.000000\n",
       "itsn1     0        1.000122 0        0.000000 0        0.000000 0.000000\n",
       "          P1_B1_X8 P1_B1_X9 P1_B1_X10 ⋯ P2_B8_X183 P2_B8_X184 P2_B8_X185\n",
       "ccdc80    0        0.000000 0.000000  ⋯ 0          0          0         \n",
       "nrf1      0        0.000000 0.000000  ⋯ 0          0          0         \n",
       "ube2h     0        1.000122 1.000122  ⋯ 0          0          0         \n",
       "slc9a3r1a 0        0.000000 0.000000  ⋯ 0          0          0         \n",
       "dap       0        1.000122 0.000000  ⋯ 0          0          0         \n",
       "itsn1     0        0.000000 0.000000  ⋯ 0          0          0         \n",
       "          P2_B8_X186 P2_B8_X187 P2_B8_X188 P2_B8_X189 P2_B8_X190 P2_B8_X191\n",
       "ccdc80    0          0          0          0.000000   0          0.000000  \n",
       "nrf1      0          0          0          0.000000   0          0.000000  \n",
       "ube2h     0          0          0          0.000000   0          0.000000  \n",
       "slc9a3r1a 0          0          0          0.000000   0          0.000000  \n",
       "dap       0          0          0          1.000122   0          0.000000  \n",
       "itsn1     0          0          0          0.000000   0          1.000122  \n",
       "          P2_B8_X192\n",
       "ccdc80    0         \n",
       "nrf1      0         \n",
       "ube2h     0         \n",
       "slc9a3r1a 0         \n",
       "dap       0         \n",
       "itsn1     0         "
      ]
     },
     "metadata": {},
     "output_type": "display_data"
    }
   ],
   "source": [
    "rownames(pruned_matrix) <- updated_names\n",
    "head(pruned_matrix)"
   ]
  },
  {
   "cell_type": "markdown",
   "metadata": {},
   "source": [
    "Fantastic. Save this matrix and use it for all downstream analyses."
   ]
  },
  {
   "cell_type": "code",
   "execution_count": 599,
   "metadata": {
    "ExecuteTime": {
     "end_time": "2018-06-15T14:57:52.208000Z",
     "start_time": "2018-06-15T14:56:33.854Z"
    }
   },
   "outputs": [],
   "source": [
    "saveRDS(pruned_matrix, \"source/cleaned_matrix.rds\")"
   ]
  }
 ],
 "metadata": {
  "hide_input": false,
  "kernelspec": {
   "display_name": "R",
   "language": "R",
   "name": "ir"
  },
  "language_info": {
   "codemirror_mode": "r",
   "file_extension": ".r",
   "mimetype": "text/x-r-source",
   "name": "R",
   "pygments_lexer": "r",
   "version": "3.4.4"
  },
  "toc": {
   "nav_menu": {},
   "number_sections": true,
   "sideBar": true,
   "skip_h1_title": false,
   "title_cell": "Table of Contents",
   "title_sidebar": "Contents",
   "toc_cell": false,
   "toc_position": {
    "height": "719px",
    "left": "96px",
    "top": "155px",
    "width": "253px"
   },
   "toc_section_display": true,
   "toc_window_display": true
  }
 },
 "nbformat": 4,
 "nbformat_minor": 2
}
